{
 "cells": [
  {
   "cell_type": "code",
   "execution_count": 2,
   "metadata": {},
   "outputs": [],
   "source": [
    "from lstm_module import LSTM_SS\n",
    "import pandas as pd\n",
    "import numpy as np\n",
    "import matplotlib.pyplot as plt\n",
    "from keras.models import Sequential\n",
    "from keras.layers import Dense, LSTM\n",
    "from sklearn.preprocessing import MinMaxScaler\n",
    "from sklearn.metrics import mean_squared_error\n",
    "from math import sqrt\n",
    "import warnings\n",
    "\n",
    "warnings.filterwarnings(\"ignore\")"
   ]
  },
  {
   "cell_type": "code",
   "execution_count": 3,
   "metadata": {},
   "outputs": [],
   "source": [
    "df = pd.read_csv('C:/Users/shail/Desktop/project/raw data/Device-1.csv')\n",
    "\n",
    "df.columns = ['SNo','temp','hum','co','no2','pm2_5','pm10','date']\n",
    "date = df['date']\n",
    "df = df.drop([\"SNo\"],axis=1)\n",
    "df['date'] = pd.to_datetime(df['date'])\n",
    "#df.index.freq='MS'"
   ]
  },
  {
   "cell_type": "code",
   "execution_count": 4,
   "metadata": {},
   "outputs": [],
   "source": [
    "df = df[(df['co'] > 0) & (df['no2'] > 0) & (df['pm2_5'] > 0) & (df['pm10'] > 0)]"
   ]
  },
  {
   "cell_type": "code",
   "execution_count": 5,
   "metadata": {},
   "outputs": [
    {
     "data": {
      "text/html": [
       "<div>\n",
       "<style scoped>\n",
       "    .dataframe tbody tr th:only-of-type {\n",
       "        vertical-align: middle;\n",
       "    }\n",
       "\n",
       "    .dataframe tbody tr th {\n",
       "        vertical-align: top;\n",
       "    }\n",
       "\n",
       "    .dataframe thead th {\n",
       "        text-align: right;\n",
       "    }\n",
       "</style>\n",
       "<table border=\"1\" class=\"dataframe\">\n",
       "  <thead>\n",
       "    <tr style=\"text-align: right;\">\n",
       "      <th></th>\n",
       "      <th>TEMP</th>\n",
       "      <th>HUM</th>\n",
       "      <th>CO</th>\n",
       "      <th>NO2</th>\n",
       "      <th>PM2.5</th>\n",
       "      <th>PM10</th>\n",
       "    </tr>\n",
       "    <tr>\n",
       "      <th>date</th>\n",
       "      <th></th>\n",
       "      <th></th>\n",
       "      <th></th>\n",
       "      <th></th>\n",
       "      <th></th>\n",
       "      <th></th>\n",
       "    </tr>\n",
       "  </thead>\n",
       "  <tbody>\n",
       "    <tr>\n",
       "      <th>2019-09-13 11:00:00</th>\n",
       "      <td>20.72</td>\n",
       "      <td>45.55</td>\n",
       "      <td>5.50</td>\n",
       "      <td>19.41</td>\n",
       "      <td>20.07</td>\n",
       "      <td>28.07</td>\n",
       "    </tr>\n",
       "    <tr>\n",
       "      <th>2019-09-13 12:00:00</th>\n",
       "      <td>21.68</td>\n",
       "      <td>45.55</td>\n",
       "      <td>5.22</td>\n",
       "      <td>19.42</td>\n",
       "      <td>21.99</td>\n",
       "      <td>30.39</td>\n",
       "    </tr>\n",
       "    <tr>\n",
       "      <th>2019-09-13 13:00:00</th>\n",
       "      <td>22.19</td>\n",
       "      <td>43.53</td>\n",
       "      <td>5.67</td>\n",
       "      <td>19.43</td>\n",
       "      <td>22.63</td>\n",
       "      <td>31.49</td>\n",
       "    </tr>\n",
       "    <tr>\n",
       "      <th>2019-09-13 14:00:00</th>\n",
       "      <td>21.73</td>\n",
       "      <td>44.27</td>\n",
       "      <td>4.93</td>\n",
       "      <td>19.42</td>\n",
       "      <td>24.61</td>\n",
       "      <td>34.45</td>\n",
       "    </tr>\n",
       "    <tr>\n",
       "      <th>2019-09-13 15:00:00</th>\n",
       "      <td>19.29</td>\n",
       "      <td>54.04</td>\n",
       "      <td>6.34</td>\n",
       "      <td>19.40</td>\n",
       "      <td>28.56</td>\n",
       "      <td>39.77</td>\n",
       "    </tr>\n",
       "    <tr>\n",
       "      <th>...</th>\n",
       "      <td>...</td>\n",
       "      <td>...</td>\n",
       "      <td>...</td>\n",
       "      <td>...</td>\n",
       "      <td>...</td>\n",
       "      <td>...</td>\n",
       "    </tr>\n",
       "    <tr>\n",
       "      <th>2020-01-11 13:00:00</th>\n",
       "      <td>17.92</td>\n",
       "      <td>44.29</td>\n",
       "      <td>40.00</td>\n",
       "      <td>1.38</td>\n",
       "      <td>66.62</td>\n",
       "      <td>92.64</td>\n",
       "    </tr>\n",
       "    <tr>\n",
       "      <th>2020-01-11 14:00:00</th>\n",
       "      <td>17.50</td>\n",
       "      <td>42.56</td>\n",
       "      <td>40.00</td>\n",
       "      <td>1.41</td>\n",
       "      <td>57.87</td>\n",
       "      <td>80.33</td>\n",
       "    </tr>\n",
       "    <tr>\n",
       "      <th>2020-01-11 15:00:00</th>\n",
       "      <td>16.74</td>\n",
       "      <td>44.00</td>\n",
       "      <td>40.00</td>\n",
       "      <td>1.45</td>\n",
       "      <td>53.99</td>\n",
       "      <td>74.98</td>\n",
       "    </tr>\n",
       "    <tr>\n",
       "      <th>2020-01-11 16:00:00</th>\n",
       "      <td>15.87</td>\n",
       "      <td>47.06</td>\n",
       "      <td>40.00</td>\n",
       "      <td>1.42</td>\n",
       "      <td>52.26</td>\n",
       "      <td>72.54</td>\n",
       "    </tr>\n",
       "    <tr>\n",
       "      <th>2020-01-11 17:00:00</th>\n",
       "      <td>15.00</td>\n",
       "      <td>50.00</td>\n",
       "      <td>40.00</td>\n",
       "      <td>1.31</td>\n",
       "      <td>53.56</td>\n",
       "      <td>74.77</td>\n",
       "    </tr>\n",
       "  </tbody>\n",
       "</table>\n",
       "<p>2887 rows × 6 columns</p>\n",
       "</div>"
      ],
      "text/plain": [
       "                      TEMP    HUM     CO    NO2  PM2.5   PM10\n",
       "date                                                         \n",
       "2019-09-13 11:00:00  20.72  45.55   5.50  19.41  20.07  28.07\n",
       "2019-09-13 12:00:00  21.68  45.55   5.22  19.42  21.99  30.39\n",
       "2019-09-13 13:00:00  22.19  43.53   5.67  19.43  22.63  31.49\n",
       "2019-09-13 14:00:00  21.73  44.27   4.93  19.42  24.61  34.45\n",
       "2019-09-13 15:00:00  19.29  54.04   6.34  19.40  28.56  39.77\n",
       "...                    ...    ...    ...    ...    ...    ...\n",
       "2020-01-11 13:00:00  17.92  44.29  40.00   1.38  66.62  92.64\n",
       "2020-01-11 14:00:00  17.50  42.56  40.00   1.41  57.87  80.33\n",
       "2020-01-11 15:00:00  16.74  44.00  40.00   1.45  53.99  74.98\n",
       "2020-01-11 16:00:00  15.87  47.06  40.00   1.42  52.26  72.54\n",
       "2020-01-11 17:00:00  15.00  50.00  40.00   1.31  53.56  74.77\n",
       "\n",
       "[2887 rows x 6 columns]"
      ]
     },
     "execution_count": 5,
     "metadata": {},
     "output_type": "execute_result"
    }
   ],
   "source": [
    "temp_one_hr = round(df.resample('60min',on='date').temp.mean(),2)\n",
    "hum_one_hr = round(df.resample('60min',on='date').hum.mean(),2)\n",
    "co_one_hr = round(df.resample('60min',on='date').co.mean(),2)\n",
    "no2_one_hr = round(df.resample('60min',on='date').no2.mean(),2)\n",
    "pm2_5_one_hr = round(df.resample('60min',on='date').pm2_5.mean(),2)\n",
    "pm10_one_hr = round(df.resample('60min',on='date').pm10.mean(),2)\n",
    "\n",
    "one_hr_sample = pd.DataFrame({\n",
    "    \"TEMP\":temp_one_hr,\n",
    "    \"HUM\":hum_one_hr,\n",
    "    \"CO\":co_one_hr,\n",
    "    \"NO2\":no2_one_hr,\n",
    "    \"PM2.5\":pm2_5_one_hr,\n",
    "    \"PM10\":pm10_one_hr\n",
    "})\n",
    "\n",
    "one_hr_sample"
   ]
  },
  {
   "cell_type": "code",
   "execution_count": 6,
   "metadata": {},
   "outputs": [],
   "source": [
    "pm = one_hr_sample[['PM2.5']].copy()"
   ]
  },
  {
   "cell_type": "code",
   "execution_count": 7,
   "metadata": {},
   "outputs": [
    {
     "data": {
      "text/html": [
       "<div>\n",
       "<style scoped>\n",
       "    .dataframe tbody tr th:only-of-type {\n",
       "        vertical-align: middle;\n",
       "    }\n",
       "\n",
       "    .dataframe tbody tr th {\n",
       "        vertical-align: top;\n",
       "    }\n",
       "\n",
       "    .dataframe thead th {\n",
       "        text-align: right;\n",
       "    }\n",
       "</style>\n",
       "<table border=\"1\" class=\"dataframe\">\n",
       "  <thead>\n",
       "    <tr style=\"text-align: right;\">\n",
       "      <th></th>\n",
       "      <th>PM2.5</th>\n",
       "    </tr>\n",
       "    <tr>\n",
       "      <th>date</th>\n",
       "      <th></th>\n",
       "    </tr>\n",
       "  </thead>\n",
       "  <tbody>\n",
       "    <tr>\n",
       "      <th>2019-09-13 11:00:00</th>\n",
       "      <td>20.07</td>\n",
       "    </tr>\n",
       "    <tr>\n",
       "      <th>2019-09-13 12:00:00</th>\n",
       "      <td>21.99</td>\n",
       "    </tr>\n",
       "    <tr>\n",
       "      <th>2019-09-13 13:00:00</th>\n",
       "      <td>22.63</td>\n",
       "    </tr>\n",
       "    <tr>\n",
       "      <th>2019-09-13 14:00:00</th>\n",
       "      <td>24.61</td>\n",
       "    </tr>\n",
       "    <tr>\n",
       "      <th>2019-09-13 15:00:00</th>\n",
       "      <td>28.56</td>\n",
       "    </tr>\n",
       "    <tr>\n",
       "      <th>...</th>\n",
       "      <td>...</td>\n",
       "    </tr>\n",
       "    <tr>\n",
       "      <th>2020-01-11 13:00:00</th>\n",
       "      <td>66.62</td>\n",
       "    </tr>\n",
       "    <tr>\n",
       "      <th>2020-01-11 14:00:00</th>\n",
       "      <td>57.87</td>\n",
       "    </tr>\n",
       "    <tr>\n",
       "      <th>2020-01-11 15:00:00</th>\n",
       "      <td>53.99</td>\n",
       "    </tr>\n",
       "    <tr>\n",
       "      <th>2020-01-11 16:00:00</th>\n",
       "      <td>52.26</td>\n",
       "    </tr>\n",
       "    <tr>\n",
       "      <th>2020-01-11 17:00:00</th>\n",
       "      <td>53.56</td>\n",
       "    </tr>\n",
       "  </tbody>\n",
       "</table>\n",
       "<p>2887 rows × 1 columns</p>\n",
       "</div>"
      ],
      "text/plain": [
       "                     PM2.5\n",
       "date                      \n",
       "2019-09-13 11:00:00  20.07\n",
       "2019-09-13 12:00:00  21.99\n",
       "2019-09-13 13:00:00  22.63\n",
       "2019-09-13 14:00:00  24.61\n",
       "2019-09-13 15:00:00  28.56\n",
       "...                    ...\n",
       "2020-01-11 13:00:00  66.62\n",
       "2020-01-11 14:00:00  57.87\n",
       "2020-01-11 15:00:00  53.99\n",
       "2020-01-11 16:00:00  52.26\n",
       "2020-01-11 17:00:00  53.56\n",
       "\n",
       "[2887 rows x 1 columns]"
      ]
     },
     "execution_count": 7,
     "metadata": {},
     "output_type": "execute_result"
    }
   ],
   "source": [
    "pm"
   ]
  },
  {
   "cell_type": "code",
   "execution_count": 8,
   "metadata": {},
   "outputs": [],
   "source": [
    "df = pm.copy()"
   ]
  },
  {
   "cell_type": "code",
   "execution_count": 12,
   "metadata": {},
   "outputs": [
    {
     "data": {
      "text/plain": [
       "PM2.5    0\n",
       "dtype: int64"
      ]
     },
     "execution_count": 12,
     "metadata": {},
     "output_type": "execute_result"
    }
   ],
   "source": [
    "df.isna().sum()"
   ]
  },
  {
   "cell_type": "code",
   "execution_count": 10,
   "metadata": {},
   "outputs": [],
   "source": [
    "df = df.interpolate(method ='linear')"
   ]
  },
  {
   "cell_type": "code",
   "execution_count": 11,
   "metadata": {},
   "outputs": [
    {
     "data": {
      "text/plain": [
       "<AxesSubplot:xlabel='date'>"
      ]
     },
     "execution_count": 11,
     "metadata": {},
     "output_type": "execute_result"
    },
    {
     "data": {
      "image/png": "[encoded data removed]",
      "text/plain": [
       "<Figure size 432x288 with 1 Axes>"
      ]
     },
     "metadata": {
      "needs_background": "light"
     },
     "output_type": "display_data"
    }
   ],
   "source": [
    "df.plot()"
   ]
  },
  {
   "cell_type": "code",
   "execution_count": 14,
   "metadata": {},
   "outputs": [
    {
     "data": {
      "text/plain": [
       "2887"
      ]
     },
     "execution_count": 14,
     "metadata": {},
     "output_type": "execute_result"
    }
   ],
   "source": [
    "len(df)"
   ]
  },
  {
   "cell_type": "code",
   "execution_count": 15,
   "metadata": {},
   "outputs": [],
   "source": [
    "train = df.iloc[:2863]\n",
    "test = df.iloc[2863:]\n",
    "\n",
    "scaler = MinMaxScaler()"
   ]
  },
  {
   "cell_type": "code",
   "execution_count": 16,
   "metadata": {},
   "outputs": [],
   "source": [
    "scaler.fit(train)\n",
    "scaled_train = scaler.transform(train)\n",
    "scaled_test = scaler.transform(test)"
   ]
  },
  {
   "cell_type": "code",
   "execution_count": 17,
   "metadata": {},
   "outputs": [
    {
     "data": {
      "image/png": "[encoded data removed]",
      "text/plain": [
       "<Figure size 720x360 with 1 Axes>"
      ]
     },
     "metadata": {
      "needs_background": "light"
     },
     "output_type": "display_data"
    }
   ],
   "source": [
    "plt.figure(figsize=(10, 5))\n",
    "\n",
    "plt.plot(train, label = 'Train')\n",
    "plt.plot(test, label = 'Test')\n",
    "\n",
    "plt.xlabel('Months', fontsize=18)\n",
    "plt.ylabel('Passengers', fontsize=18)\n",
    "\n",
    "plt.xticks(fontsize=14)\n",
    "plt.yticks(fontsize=14)\n",
    "\n",
    "plt.legend(loc='lower left', bbox_to_anchor= (0.0, 1.01), ncol=3, \n",
    "           borderaxespad=0, frameon=False, prop={\"size\":15})\n",
    "\n",
    "plt.show()\n"
   ]
  },
  {
   "cell_type": "code",
   "execution_count": 18,
   "metadata": {},
   "outputs": [],
   "source": [
    "n_input = 24\n",
    "n_features = 1\n",
    "\n",
    "def generate_data(data, n_input):\n",
    "    X, y = [], []\n",
    "    for i in range(0,len(data)-n_input):\n",
    "            X.append(data[i:i+n_input])\n",
    "            y.append(data[i+n_input])\n",
    "    return np.array(X), np.array(y)\n",
    "\n",
    "X, y = generate_data(scaled_train, n_input)"
   ]
  },
  {
   "cell_type": "markdown",
   "metadata": {},
   "source": [
    "# Original LSTM"
   ]
  },
  {
   "cell_type": "code",
   "execution_count": 19,
   "metadata": {},
   "outputs": [
    {
     "name": "stdout",
     "output_type": "stream",
     "text": [
      "Model: \"sequential\"\n",
      "_________________________________________________________________\n",
      "Layer (type)                 Output Shape              Param #   \n",
      "=================================================================\n",
      "lstm (LSTM)                  (None, 200)               161600    \n",
      "_________________________________________________________________\n",
      "dense (Dense)                (None, 1)                 201       \n",
      "=================================================================\n",
      "Total params: 161,801\n",
      "Trainable params: 161,801\n",
      "Non-trainable params: 0\n",
      "_________________________________________________________________\n"
     ]
    }
   ],
   "source": [
    "model = Sequential()\n",
    "model.add(LSTM(200, input_shape=(n_input, n_features)))\n",
    "model.add(Dense(1))\n",
    "model.compile(loss='mse')\n",
    "\n",
    "model.summary()"
   ]
  },
  {
   "cell_type": "code",
   "execution_count": 20,
   "metadata": {},
   "outputs": [
    {
     "data": {
      "text/plain": [
       "<keras.callbacks.History at 0x1ccb1e29520>"
      ]
     },
     "execution_count": 20,
     "metadata": {},
     "output_type": "execute_result"
    }
   ],
   "source": [
    "model.fit(X, y, epochs=50, verbose=0)"
   ]
  },
  {
   "cell_type": "code",
   "execution_count": 21,
   "metadata": {},
   "outputs": [
    {
     "data": {
      "text/plain": [
       "[array([0.08976078], dtype=float32),\n",
       " array([0.10252935], dtype=float32),\n",
       " array([0.11224042], dtype=float32),\n",
       " array([0.11868665], dtype=float32),\n",
       " array([0.12221894], dtype=float32),\n",
       " array([0.12376069], dtype=float32),\n",
       " array([0.12478963], dtype=float32),\n",
       " array([0.12635896], dtype=float32),\n",
       " array([0.12858231], dtype=float32),\n",
       " array([0.13207588], dtype=float32),\n",
       " array([0.13665137], dtype=float32),\n",
       " array([0.14113905], dtype=float32),\n",
       " array([0.14424427], dtype=float32),\n",
       " array([0.14503519], dtype=float32),\n",
       " array([0.1431323], dtype=float32),\n",
       " array([0.13886373], dtype=float32),\n",
       " array([0.13312335], dtype=float32),\n",
       " array([0.1269003], dtype=float32),\n",
       " array([0.12115507], dtype=float32),\n",
       " array([0.11668333], dtype=float32),\n",
       " array([0.11395895], dtype=float32),\n",
       " array([0.11304663], dtype=float32),\n",
       " array([0.11368038], dtype=float32),\n",
       " array([0.11538145], dtype=float32)]"
      ]
     },
     "execution_count": 21,
     "metadata": {},
     "output_type": "execute_result"
    }
   ],
   "source": [
    "test_predictions = []\n",
    "\n",
    "first_eval_batch = scaled_train[-n_input:]\n",
    "current_batch = first_eval_batch.reshape((1, n_input, n_features))\n",
    "\n",
    "for i in range(len(test)):\n",
    "    current_pred = model.predict(current_batch)[0]\n",
    "    \n",
    "    test_predictions.append(current_pred)\n",
    "    \n",
    "    current_batch = np.append(current_batch[:,1:,:],[[current_pred]], axis=1)\n",
    "    \n",
    "test_predictions"
   ]
  },
  {
   "cell_type": "code",
   "execution_count": 22,
   "metadata": {},
   "outputs": [],
   "source": [
    "true_predictions = scaler.inverse_transform(test_predictions)\n",
    "\n",
    "test['original_LSTM'] = true_predictions"
   ]
  },
  {
   "cell_type": "code",
   "execution_count": 23,
   "metadata": {},
   "outputs": [
    {
     "data": {
      "text/plain": [
       "<AxesSubplot:xlabel='date'>"
      ]
     },
     "execution_count": 23,
     "metadata": {},
     "output_type": "execute_result"
    },
    {
     "data": {
      "image/png": "[encoded data removed]",
      "text/plain": [
       "<Figure size 432x288 with 1 Axes>"
      ]
     },
     "metadata": {
      "needs_background": "light"
     },
     "output_type": "display_data"
    }
   ],
   "source": [
    "test.plot()"
   ]
  },
  {
   "cell_type": "code",
   "execution_count": 24,
   "metadata": {},
   "outputs": [
    {
     "name": "stdout",
     "output_type": "stream",
     "text": [
      "39.98990013826455\n"
     ]
    }
   ],
   "source": [
    "rmse = sqrt(mean_squared_error(test['PM2.5'], test['original_LSTM']))\n",
    "print(rmse)"
   ]
  },
  {
   "cell_type": "code",
   "execution_count": 25,
   "metadata": {},
   "outputs": [
    {
     "data": {
      "text/html": [
       "<div>\n",
       "<style scoped>\n",
       "    .dataframe tbody tr th:only-of-type {\n",
       "        vertical-align: middle;\n",
       "    }\n",
       "\n",
       "    .dataframe tbody tr th {\n",
       "        vertical-align: top;\n",
       "    }\n",
       "\n",
       "    .dataframe thead th {\n",
       "        text-align: right;\n",
       "    }\n",
       "</style>\n",
       "<table border=\"1\" class=\"dataframe\">\n",
       "  <thead>\n",
       "    <tr style=\"text-align: right;\">\n",
       "      <th></th>\n",
       "      <th>PM2.5</th>\n",
       "      <th>original_LSTM</th>\n",
       "    </tr>\n",
       "    <tr>\n",
       "      <th>date</th>\n",
       "      <th></th>\n",
       "      <th></th>\n",
       "    </tr>\n",
       "  </thead>\n",
       "  <tbody>\n",
       "    <tr>\n",
       "      <th>2020-01-10 18:00:00</th>\n",
       "      <td>104.55</td>\n",
       "      <td>80.379716</td>\n",
       "    </tr>\n",
       "    <tr>\n",
       "      <th>2020-01-10 19:00:00</th>\n",
       "      <td>164.92</td>\n",
       "      <td>91.310247</td>\n",
       "    </tr>\n",
       "    <tr>\n",
       "      <th>2020-01-10 20:00:00</th>\n",
       "      <td>211.35</td>\n",
       "      <td>99.623411</td>\n",
       "    </tr>\n",
       "    <tr>\n",
       "      <th>2020-01-10 21:00:00</th>\n",
       "      <td>141.20</td>\n",
       "      <td>105.141703</td>\n",
       "    </tr>\n",
       "    <tr>\n",
       "      <th>2020-01-10 22:00:00</th>\n",
       "      <td>121.06</td>\n",
       "      <td>108.165521</td>\n",
       "    </tr>\n",
       "    <tr>\n",
       "      <th>2020-01-10 23:00:00</th>\n",
       "      <td>119.04</td>\n",
       "      <td>109.485335</td>\n",
       "    </tr>\n",
       "    <tr>\n",
       "      <th>2020-01-11 00:00:00</th>\n",
       "      <td>98.77</td>\n",
       "      <td>110.366159</td>\n",
       "    </tr>\n",
       "    <tr>\n",
       "      <th>2020-01-11 01:00:00</th>\n",
       "      <td>80.07</td>\n",
       "      <td>111.709584</td>\n",
       "    </tr>\n",
       "    <tr>\n",
       "      <th>2020-01-11 02:00:00</th>\n",
       "      <td>86.52</td>\n",
       "      <td>113.612890</td>\n",
       "    </tr>\n",
       "    <tr>\n",
       "      <th>2020-01-11 03:00:00</th>\n",
       "      <td>99.19</td>\n",
       "      <td>116.603554</td>\n",
       "    </tr>\n",
       "    <tr>\n",
       "      <th>2020-01-11 04:00:00</th>\n",
       "      <td>106.13</td>\n",
       "      <td>120.520403</td>\n",
       "    </tr>\n",
       "    <tr>\n",
       "      <th>2020-01-11 05:00:00</th>\n",
       "      <td>119.74</td>\n",
       "      <td>124.362080</td>\n",
       "    </tr>\n",
       "    <tr>\n",
       "      <th>2020-01-11 06:00:00</th>\n",
       "      <td>147.07</td>\n",
       "      <td>127.020306</td>\n",
       "    </tr>\n",
       "    <tr>\n",
       "      <th>2020-01-11 07:00:00</th>\n",
       "      <td>152.47</td>\n",
       "      <td>127.697376</td>\n",
       "    </tr>\n",
       "    <tr>\n",
       "      <th>2020-01-11 08:00:00</th>\n",
       "      <td>137.57</td>\n",
       "      <td>126.068405</td>\n",
       "    </tr>\n",
       "    <tr>\n",
       "      <th>2020-01-11 09:00:00</th>\n",
       "      <td>98.44</td>\n",
       "      <td>122.414294</td>\n",
       "    </tr>\n",
       "    <tr>\n",
       "      <th>2020-01-11 10:00:00</th>\n",
       "      <td>81.47</td>\n",
       "      <td>117.500246</td>\n",
       "    </tr>\n",
       "    <tr>\n",
       "      <th>2020-01-11 11:00:00</th>\n",
       "      <td>74.93</td>\n",
       "      <td>112.173002</td>\n",
       "    </tr>\n",
       "    <tr>\n",
       "      <th>2020-01-11 12:00:00</th>\n",
       "      <td>69.56</td>\n",
       "      <td>107.254796</td>\n",
       "    </tr>\n",
       "    <tr>\n",
       "      <th>2020-01-11 13:00:00</th>\n",
       "      <td>66.62</td>\n",
       "      <td>103.426768</td>\n",
       "    </tr>\n",
       "    <tr>\n",
       "      <th>2020-01-11 14:00:00</th>\n",
       "      <td>57.87</td>\n",
       "      <td>101.094563</td>\n",
       "    </tr>\n",
       "    <tr>\n",
       "      <th>2020-01-11 15:00:00</th>\n",
       "      <td>53.99</td>\n",
       "      <td>100.313569</td>\n",
       "    </tr>\n",
       "    <tr>\n",
       "      <th>2020-01-11 16:00:00</th>\n",
       "      <td>52.26</td>\n",
       "      <td>100.856087</td>\n",
       "    </tr>\n",
       "    <tr>\n",
       "      <th>2020-01-11 17:00:00</th>\n",
       "      <td>53.56</td>\n",
       "      <td>102.312290</td>\n",
       "    </tr>\n",
       "  </tbody>\n",
       "</table>\n",
       "</div>"
      ],
      "text/plain": [
       "                      PM2.5  original_LSTM\n",
       "date                                      \n",
       "2020-01-10 18:00:00  104.55      80.379716\n",
       "2020-01-10 19:00:00  164.92      91.310247\n",
       "2020-01-10 20:00:00  211.35      99.623411\n",
       "2020-01-10 21:00:00  141.20     105.141703\n",
       "2020-01-10 22:00:00  121.06     108.165521\n",
       "2020-01-10 23:00:00  119.04     109.485335\n",
       "2020-01-11 00:00:00   98.77     110.366159\n",
       "2020-01-11 01:00:00   80.07     111.709584\n",
       "2020-01-11 02:00:00   86.52     113.612890\n",
       "2020-01-11 03:00:00   99.19     116.603554\n",
       "2020-01-11 04:00:00  106.13     120.520403\n",
       "2020-01-11 05:00:00  119.74     124.362080\n",
       "2020-01-11 06:00:00  147.07     127.020306\n",
       "2020-01-11 07:00:00  152.47     127.697376\n",
       "2020-01-11 08:00:00  137.57     126.068405\n",
       "2020-01-11 09:00:00   98.44     122.414294\n",
       "2020-01-11 10:00:00   81.47     117.500246\n",
       "2020-01-11 11:00:00   74.93     112.173002\n",
       "2020-01-11 12:00:00   69.56     107.254796\n",
       "2020-01-11 13:00:00   66.62     103.426768\n",
       "2020-01-11 14:00:00   57.87     101.094563\n",
       "2020-01-11 15:00:00   53.99     100.313569\n",
       "2020-01-11 16:00:00   52.26     100.856087\n",
       "2020-01-11 17:00:00   53.56     102.312290"
      ]
     },
     "execution_count": 25,
     "metadata": {},
     "output_type": "execute_result"
    }
   ],
   "source": [
    "test"
   ]
  },
  {
   "cell_type": "markdown",
   "metadata": {},
   "source": [
    "# SELF_MADE_LSTM"
   ]
  },
  {
   "cell_type": "code",
   "execution_count": 26,
   "metadata": {},
   "outputs": [],
   "source": [
    "self_model = LSTM_SS(1, 1, 200, n_input, 0.01)"
   ]
  },
  {
   "cell_type": "code",
   "execution_count": 27,
   "metadata": {},
   "outputs": [],
   "source": [
    "self_model.fit(50, X, y, verbose=False)"
   ]
  },
  {
   "cell_type": "code",
   "execution_count": 28,
   "metadata": {
    "scrolled": true
   },
   "outputs": [
    {
     "data": {
      "text/plain": [
       "[array([0.11162306]),\n",
       " array([0.07231776]),\n",
       " array([0.10575556]),\n",
       " array([0.15127708]),\n",
       " array([0.07314513]),\n",
       " array([0.07279567]),\n",
       " array([0.07315354]),\n",
       " array([0.12900397]),\n",
       " array([0.07975131]),\n",
       " array([0.08389246]),\n",
       " array([0.09109182]),\n",
       " array([0.10276571]),\n",
       " array([0.13076784]),\n",
       " array([0.13060773]),\n",
       " array([0.0589814]),\n",
       " array([0.05611496]),\n",
       " array([0.13416693]),\n",
       " array([0.08046954]),\n",
       " array([0.11714526]),\n",
       " array([0.0780918]),\n",
       " array([0.12115533]),\n",
       " array([0.07883979]),\n",
       " array([0.07030206]),\n",
       " array([0.06245595])]"
      ]
     },
     "execution_count": 28,
     "metadata": {},
     "output_type": "execute_result"
    }
   ],
   "source": [
    "test_predictions = []\n",
    "\n",
    "first_eval_batch = scaled_train[-n_input:]\n",
    "current_batch = first_eval_batch.reshape((1, n_input, n_features))\n",
    "\n",
    "for i in range(len(test)):\n",
    "    current_pred = self_model.predict(current_batch)[0]\n",
    "    \n",
    "    test_predictions.append(current_pred)\n",
    "    \n",
    "    current_batch = np.append(current_batch[:,1:,:],[[current_pred]], axis=1)\n",
    "    \n",
    "test_predictions"
   ]
  },
  {
   "cell_type": "code",
   "execution_count": 29,
   "metadata": {},
   "outputs": [],
   "source": [
    "true_predictions = scaler.inverse_transform(test_predictions)\n",
    "\n",
    "test['SELF_MADE_LSTM'] = true_predictions"
   ]
  },
  {
   "cell_type": "code",
   "execution_count": 30,
   "metadata": {},
   "outputs": [
    {
     "data": {
      "text/plain": [
       "<AxesSubplot:xlabel='date'>"
      ]
     },
     "execution_count": 30,
     "metadata": {},
     "output_type": "execute_result"
    },
    {
     "data": {
      "image/png": "[encoded data removed]",
      "text/plain": [
       "<Figure size 432x288 with 1 Axes>"
      ]
     },
     "metadata": {
      "needs_background": "light"
     },
     "output_type": "display_data"
    }
   ],
   "source": [
    "test.plot()"
   ]
  },
  {
   "cell_type": "code",
   "execution_count": 31,
   "metadata": {},
   "outputs": [
    {
     "name": "stdout",
     "output_type": "stream",
     "text": [
      "46.083554114221926\n"
     ]
    }
   ],
   "source": [
    "rmse = sqrt(mean_squared_error(test['PM2.5'], test['SELF_MADE_LSTM']))\n",
    "print(rmse)"
   ]
  },
  {
   "cell_type": "code",
   "execution_count": 32,
   "metadata": {},
   "outputs": [
    {
     "data": {
      "text/html": [
       "<div>\n",
       "<style scoped>\n",
       "    .dataframe tbody tr th:only-of-type {\n",
       "        vertical-align: middle;\n",
       "    }\n",
       "\n",
       "    .dataframe tbody tr th {\n",
       "        vertical-align: top;\n",
       "    }\n",
       "\n",
       "    .dataframe thead th {\n",
       "        text-align: right;\n",
       "    }\n",
       "</style>\n",
       "<table border=\"1\" class=\"dataframe\">\n",
       "  <thead>\n",
       "    <tr style=\"text-align: right;\">\n",
       "      <th></th>\n",
       "      <th>PM2.5</th>\n",
       "      <th>original_LSTM</th>\n",
       "      <th>SELF_MADE_LSTM</th>\n",
       "    </tr>\n",
       "    <tr>\n",
       "      <th>date</th>\n",
       "      <th></th>\n",
       "      <th></th>\n",
       "      <th></th>\n",
       "    </tr>\n",
       "  </thead>\n",
       "  <tbody>\n",
       "    <tr>\n",
       "      <th>2020-01-10 18:00:00</th>\n",
       "      <td>104.55</td>\n",
       "      <td>80.379716</td>\n",
       "      <td>99.094916</td>\n",
       "    </tr>\n",
       "    <tr>\n",
       "      <th>2020-01-10 19:00:00</th>\n",
       "      <td>164.92</td>\n",
       "      <td>91.310247</td>\n",
       "      <td>65.447617</td>\n",
       "    </tr>\n",
       "    <tr>\n",
       "      <th>2020-01-10 20:00:00</th>\n",
       "      <td>211.35</td>\n",
       "      <td>99.623411</td>\n",
       "      <td>94.072044</td>\n",
       "    </tr>\n",
       "    <tr>\n",
       "      <th>2020-01-10 21:00:00</th>\n",
       "      <td>141.20</td>\n",
       "      <td>105.141703</td>\n",
       "      <td>133.040747</td>\n",
       "    </tr>\n",
       "    <tr>\n",
       "      <th>2020-01-10 22:00:00</th>\n",
       "      <td>121.06</td>\n",
       "      <td>108.165521</td>\n",
       "      <td>66.155892</td>\n",
       "    </tr>\n",
       "    <tr>\n",
       "      <th>2020-01-10 23:00:00</th>\n",
       "      <td>119.04</td>\n",
       "      <td>109.485335</td>\n",
       "      <td>65.856731</td>\n",
       "    </tr>\n",
       "    <tr>\n",
       "      <th>2020-01-11 00:00:00</th>\n",
       "      <td>98.77</td>\n",
       "      <td>110.366159</td>\n",
       "      <td>66.163088</td>\n",
       "    </tr>\n",
       "    <tr>\n",
       "      <th>2020-01-11 01:00:00</th>\n",
       "      <td>80.07</td>\n",
       "      <td>111.709584</td>\n",
       "      <td>113.973851</td>\n",
       "    </tr>\n",
       "    <tr>\n",
       "      <th>2020-01-11 02:00:00</th>\n",
       "      <td>86.52</td>\n",
       "      <td>113.612890</td>\n",
       "      <td>71.811112</td>\n",
       "    </tr>\n",
       "    <tr>\n",
       "      <th>2020-01-11 03:00:00</th>\n",
       "      <td>99.19</td>\n",
       "      <td>116.603554</td>\n",
       "      <td>75.356143</td>\n",
       "    </tr>\n",
       "    <tr>\n",
       "      <th>2020-01-11 04:00:00</th>\n",
       "      <td>106.13</td>\n",
       "      <td>120.520403</td>\n",
       "      <td>81.519154</td>\n",
       "    </tr>\n",
       "    <tr>\n",
       "      <th>2020-01-11 05:00:00</th>\n",
       "      <td>119.74</td>\n",
       "      <td>124.362080</td>\n",
       "      <td>91.512582</td>\n",
       "    </tr>\n",
       "    <tr>\n",
       "      <th>2020-01-11 06:00:00</th>\n",
       "      <td>147.07</td>\n",
       "      <td>127.020306</td>\n",
       "      <td>115.483808</td>\n",
       "    </tr>\n",
       "    <tr>\n",
       "      <th>2020-01-11 07:00:00</th>\n",
       "      <td>152.47</td>\n",
       "      <td>127.697376</td>\n",
       "      <td>115.346747</td>\n",
       "    </tr>\n",
       "    <tr>\n",
       "      <th>2020-01-11 08:00:00</th>\n",
       "      <td>137.57</td>\n",
       "      <td>126.068405</td>\n",
       "      <td>54.031024</td>\n",
       "    </tr>\n",
       "    <tr>\n",
       "      <th>2020-01-11 09:00:00</th>\n",
       "      <td>98.44</td>\n",
       "      <td>122.414294</td>\n",
       "      <td>51.577210</td>\n",
       "    </tr>\n",
       "    <tr>\n",
       "      <th>2020-01-11 10:00:00</th>\n",
       "      <td>81.47</td>\n",
       "      <td>117.500246</td>\n",
       "      <td>118.393601</td>\n",
       "    </tr>\n",
       "    <tr>\n",
       "      <th>2020-01-11 11:00:00</th>\n",
       "      <td>74.93</td>\n",
       "      <td>112.173002</td>\n",
       "      <td>72.425954</td>\n",
       "    </tr>\n",
       "    <tr>\n",
       "      <th>2020-01-11 12:00:00</th>\n",
       "      <td>69.56</td>\n",
       "      <td>107.254796</td>\n",
       "      <td>103.822202</td>\n",
       "    </tr>\n",
       "    <tr>\n",
       "      <th>2020-01-11 13:00:00</th>\n",
       "      <td>66.62</td>\n",
       "      <td>103.426768</td>\n",
       "      <td>70.390486</td>\n",
       "    </tr>\n",
       "    <tr>\n",
       "      <th>2020-01-11 14:00:00</th>\n",
       "      <td>57.87</td>\n",
       "      <td>101.094563</td>\n",
       "      <td>107.255020</td>\n",
       "    </tr>\n",
       "    <tr>\n",
       "      <th>2020-01-11 15:00:00</th>\n",
       "      <td>53.99</td>\n",
       "      <td>100.313569</td>\n",
       "      <td>71.030802</td>\n",
       "    </tr>\n",
       "    <tr>\n",
       "      <th>2020-01-11 16:00:00</th>\n",
       "      <td>52.26</td>\n",
       "      <td>100.856087</td>\n",
       "      <td>63.722077</td>\n",
       "    </tr>\n",
       "    <tr>\n",
       "      <th>2020-01-11 17:00:00</th>\n",
       "      <td>53.56</td>\n",
       "      <td>102.312290</td>\n",
       "      <td>57.005419</td>\n",
       "    </tr>\n",
       "  </tbody>\n",
       "</table>\n",
       "</div>"
      ],
      "text/plain": [
       "                      PM2.5  original_LSTM  SELF_MADE_LSTM\n",
       "date                                                      \n",
       "2020-01-10 18:00:00  104.55      80.379716       99.094916\n",
       "2020-01-10 19:00:00  164.92      91.310247       65.447617\n",
       "2020-01-10 20:00:00  211.35      99.623411       94.072044\n",
       "2020-01-10 21:00:00  141.20     105.141703      133.040747\n",
       "2020-01-10 22:00:00  121.06     108.165521       66.155892\n",
       "2020-01-10 23:00:00  119.04     109.485335       65.856731\n",
       "2020-01-11 00:00:00   98.77     110.366159       66.163088\n",
       "2020-01-11 01:00:00   80.07     111.709584      113.973851\n",
       "2020-01-11 02:00:00   86.52     113.612890       71.811112\n",
       "2020-01-11 03:00:00   99.19     116.603554       75.356143\n",
       "2020-01-11 04:00:00  106.13     120.520403       81.519154\n",
       "2020-01-11 05:00:00  119.74     124.362080       91.512582\n",
       "2020-01-11 06:00:00  147.07     127.020306      115.483808\n",
       "2020-01-11 07:00:00  152.47     127.697376      115.346747\n",
       "2020-01-11 08:00:00  137.57     126.068405       54.031024\n",
       "2020-01-11 09:00:00   98.44     122.414294       51.577210\n",
       "2020-01-11 10:00:00   81.47     117.500246      118.393601\n",
       "2020-01-11 11:00:00   74.93     112.173002       72.425954\n",
       "2020-01-11 12:00:00   69.56     107.254796      103.822202\n",
       "2020-01-11 13:00:00   66.62     103.426768       70.390486\n",
       "2020-01-11 14:00:00   57.87     101.094563      107.255020\n",
       "2020-01-11 15:00:00   53.99     100.313569       71.030802\n",
       "2020-01-11 16:00:00   52.26     100.856087       63.722077\n",
       "2020-01-11 17:00:00   53.56     102.312290       57.005419"
      ]
     },
     "execution_count": 32,
     "metadata": {},
     "output_type": "execute_result"
    }
   ],
   "source": [
    "test"
   ]
  },
  {
   "cell_type": "code",
   "execution_count": null,
   "metadata": {},
   "outputs": [],
   "source": []
  },
  {
   "cell_type": "code",
   "execution_count": null,
   "metadata": {},
   "outputs": [],
   "source": []
  }
 ],
 "metadata": {
  "kernelspec": {
   "display_name": "Python 3",
   "language": "python",
   "name": "python3"
  },
  "language_info": {
   "codemirror_mode": {
    "name": "ipython",
    "version": 3
   },
   "file_extension": ".py",
   "mimetype": "text/x-python",
   "name": "python",
   "nbconvert_exporter": "python",
   "pygments_lexer": "ipython3",
   "version": "3.8.5"
  }
 },
 "nbformat": 4,
 "nbformat_minor": 4
}
