{
 "cells": [
  {
   "cell_type": "code",
   "execution_count": 1,
   "metadata": {},
   "outputs": [],
   "source": [
    "from lstm_module import LSTM_SS\n",
    "import pandas as pd\n",
    "import numpy as np\n",
    "import matplotlib.pyplot as plt\n",
    "from keras.models import Sequential\n",
    "from keras.layers import Dense, LSTM\n",
    "from sklearn.preprocessing import MinMaxScaler\n",
    "from sklearn.metrics import mean_squared_error\n",
    "from math import sqrt\n",
    "import warnings\n",
    "\n",
    "warnings.filterwarnings(\"ignore\")"
   ]
  },
  {
   "cell_type": "code",
   "execution_count": 2,
   "metadata": {},
   "outputs": [],
   "source": [
    "df = pd.read_csv('C:/Users/shail/Desktop/project/raw data/Device-2.csv')\n",
    "\n",
    "df.columns = ['SNo','temp','hum','co','no2','pm2_5','pm10','date']\n",
    "date = df['date']\n",
    "df = df.drop([\"SNo\"],axis=1)\n",
    "df['date'] = pd.to_datetime(df['date'])\n",
    "#df.index.freq='MS'"
   ]
  },
  {
   "cell_type": "code",
   "execution_count": 3,
   "metadata": {},
   "outputs": [],
   "source": [
    "df = df[(df['co'] > 0) & (df['no2'] > 0) & (df['pm2_5'] > 0) & (df['pm10'] > 0)]"
   ]
  },
  {
   "cell_type": "code",
   "execution_count": 4,
   "metadata": {},
   "outputs": [
    {
     "data": {
      "text/html": [
       "<div>\n",
       "<style scoped>\n",
       "    .dataframe tbody tr th:only-of-type {\n",
       "        vertical-align: middle;\n",
       "    }\n",
       "\n",
       "    .dataframe tbody tr th {\n",
       "        vertical-align: top;\n",
       "    }\n",
       "\n",
       "    .dataframe thead th {\n",
       "        text-align: right;\n",
       "    }\n",
       "</style>\n",
       "<table border=\"1\" class=\"dataframe\">\n",
       "  <thead>\n",
       "    <tr style=\"text-align: right;\">\n",
       "      <th></th>\n",
       "      <th>TEMP</th>\n",
       "      <th>HUM</th>\n",
       "      <th>CO</th>\n",
       "      <th>NO2</th>\n",
       "      <th>PM2.5</th>\n",
       "      <th>PM10</th>\n",
       "    </tr>\n",
       "    <tr>\n",
       "      <th>date</th>\n",
       "      <th></th>\n",
       "      <th></th>\n",
       "      <th></th>\n",
       "      <th></th>\n",
       "      <th></th>\n",
       "      <th></th>\n",
       "    </tr>\n",
       "  </thead>\n",
       "  <tbody>\n",
       "    <tr>\n",
       "      <th>2019-09-13 05:00:00</th>\n",
       "      <td>23.00</td>\n",
       "      <td>89.00</td>\n",
       "      <td>15.76</td>\n",
       "      <td>19.25</td>\n",
       "      <td>28.34</td>\n",
       "      <td>39.31</td>\n",
       "    </tr>\n",
       "    <tr>\n",
       "      <th>2019-09-13 06:00:00</th>\n",
       "      <td>23.14</td>\n",
       "      <td>87.31</td>\n",
       "      <td>16.27</td>\n",
       "      <td>19.25</td>\n",
       "      <td>32.36</td>\n",
       "      <td>44.94</td>\n",
       "    </tr>\n",
       "    <tr>\n",
       "      <th>2019-09-13 07:00:00</th>\n",
       "      <td>24.23</td>\n",
       "      <td>83.01</td>\n",
       "      <td>16.25</td>\n",
       "      <td>19.26</td>\n",
       "      <td>58.58</td>\n",
       "      <td>82.12</td>\n",
       "    </tr>\n",
       "    <tr>\n",
       "      <th>2019-09-13 08:00:00</th>\n",
       "      <td>25.45</td>\n",
       "      <td>76.43</td>\n",
       "      <td>16.15</td>\n",
       "      <td>19.26</td>\n",
       "      <td>43.30</td>\n",
       "      <td>60.28</td>\n",
       "    </tr>\n",
       "    <tr>\n",
       "      <th>2019-09-13 09:00:00</th>\n",
       "      <td>27.85</td>\n",
       "      <td>66.55</td>\n",
       "      <td>16.39</td>\n",
       "      <td>19.25</td>\n",
       "      <td>48.00</td>\n",
       "      <td>66.76</td>\n",
       "    </tr>\n",
       "    <tr>\n",
       "      <th>...</th>\n",
       "      <td>...</td>\n",
       "      <td>...</td>\n",
       "      <td>...</td>\n",
       "      <td>...</td>\n",
       "      <td>...</td>\n",
       "      <td>...</td>\n",
       "    </tr>\n",
       "    <tr>\n",
       "      <th>2020-01-11 13:00:00</th>\n",
       "      <td>18.88</td>\n",
       "      <td>48.85</td>\n",
       "      <td>41.00</td>\n",
       "      <td>1.38</td>\n",
       "      <td>89.39</td>\n",
       "      <td>124.32</td>\n",
       "    </tr>\n",
       "    <tr>\n",
       "      <th>2020-01-11 14:00:00</th>\n",
       "      <td>19.03</td>\n",
       "      <td>47.54</td>\n",
       "      <td>41.00</td>\n",
       "      <td>1.43</td>\n",
       "      <td>77.89</td>\n",
       "      <td>108.28</td>\n",
       "    </tr>\n",
       "    <tr>\n",
       "      <th>2020-01-11 15:00:00</th>\n",
       "      <td>19.00</td>\n",
       "      <td>46.44</td>\n",
       "      <td>41.00</td>\n",
       "      <td>1.47</td>\n",
       "      <td>64.70</td>\n",
       "      <td>89.90</td>\n",
       "    </tr>\n",
       "    <tr>\n",
       "      <th>2020-01-11 16:00:00</th>\n",
       "      <td>18.39</td>\n",
       "      <td>48.06</td>\n",
       "      <td>41.00</td>\n",
       "      <td>1.48</td>\n",
       "      <td>64.13</td>\n",
       "      <td>89.20</td>\n",
       "    </tr>\n",
       "    <tr>\n",
       "      <th>2020-01-11 17:00:00</th>\n",
       "      <td>18.00</td>\n",
       "      <td>49.74</td>\n",
       "      <td>41.00</td>\n",
       "      <td>1.48</td>\n",
       "      <td>60.89</td>\n",
       "      <td>84.70</td>\n",
       "    </tr>\n",
       "  </tbody>\n",
       "</table>\n",
       "<p>2893 rows × 6 columns</p>\n",
       "</div>"
      ],
      "text/plain": [
       "                      TEMP    HUM     CO    NO2  PM2.5    PM10\n",
       "date                                                          \n",
       "2019-09-13 05:00:00  23.00  89.00  15.76  19.25  28.34   39.31\n",
       "2019-09-13 06:00:00  23.14  87.31  16.27  19.25  32.36   44.94\n",
       "2019-09-13 07:00:00  24.23  83.01  16.25  19.26  58.58   82.12\n",
       "2019-09-13 08:00:00  25.45  76.43  16.15  19.26  43.30   60.28\n",
       "2019-09-13 09:00:00  27.85  66.55  16.39  19.25  48.00   66.76\n",
       "...                    ...    ...    ...    ...    ...     ...\n",
       "2020-01-11 13:00:00  18.88  48.85  41.00   1.38  89.39  124.32\n",
       "2020-01-11 14:00:00  19.03  47.54  41.00   1.43  77.89  108.28\n",
       "2020-01-11 15:00:00  19.00  46.44  41.00   1.47  64.70   89.90\n",
       "2020-01-11 16:00:00  18.39  48.06  41.00   1.48  64.13   89.20\n",
       "2020-01-11 17:00:00  18.00  49.74  41.00   1.48  60.89   84.70\n",
       "\n",
       "[2893 rows x 6 columns]"
      ]
     },
     "execution_count": 4,
     "metadata": {},
     "output_type": "execute_result"
    }
   ],
   "source": [
    "temp_one_hr = round(df.resample('60min',on='date').temp.mean(),2)\n",
    "hum_one_hr = round(df.resample('60min',on='date').hum.mean(),2)\n",
    "co_one_hr = round(df.resample('60min',on='date').co.mean(),2)\n",
    "no2_one_hr = round(df.resample('60min',on='date').no2.mean(),2)\n",
    "pm2_5_one_hr = round(df.resample('60min',on='date').pm2_5.mean(),2)\n",
    "pm10_one_hr = round(df.resample('60min',on='date').pm10.mean(),2)\n",
    "\n",
    "one_hr_sample = pd.DataFrame({\n",
    "    \"TEMP\":temp_one_hr,\n",
    "    \"HUM\":hum_one_hr,\n",
    "    \"CO\":co_one_hr,\n",
    "    \"NO2\":no2_one_hr,\n",
    "    \"PM2.5\":pm2_5_one_hr,\n",
    "    \"PM10\":pm10_one_hr\n",
    "})\n",
    "\n",
    "one_hr_sample"
   ]
  },
  {
   "cell_type": "code",
   "execution_count": 5,
   "metadata": {},
   "outputs": [],
   "source": [
    "pm = one_hr_sample[['PM2.5']].copy()"
   ]
  },
  {
   "cell_type": "code",
   "execution_count": 6,
   "metadata": {},
   "outputs": [
    {
     "data": {
      "text/html": [
       "<div>\n",
       "<style scoped>\n",
       "    .dataframe tbody tr th:only-of-type {\n",
       "        vertical-align: middle;\n",
       "    }\n",
       "\n",
       "    .dataframe tbody tr th {\n",
       "        vertical-align: top;\n",
       "    }\n",
       "\n",
       "    .dataframe thead th {\n",
       "        text-align: right;\n",
       "    }\n",
       "</style>\n",
       "<table border=\"1\" class=\"dataframe\">\n",
       "  <thead>\n",
       "    <tr style=\"text-align: right;\">\n",
       "      <th></th>\n",
       "      <th>PM2.5</th>\n",
       "    </tr>\n",
       "    <tr>\n",
       "      <th>date</th>\n",
       "      <th></th>\n",
       "    </tr>\n",
       "  </thead>\n",
       "  <tbody>\n",
       "    <tr>\n",
       "      <th>2019-09-13 05:00:00</th>\n",
       "      <td>28.34</td>\n",
       "    </tr>\n",
       "    <tr>\n",
       "      <th>2019-09-13 06:00:00</th>\n",
       "      <td>32.36</td>\n",
       "    </tr>\n",
       "    <tr>\n",
       "      <th>2019-09-13 07:00:00</th>\n",
       "      <td>58.58</td>\n",
       "    </tr>\n",
       "    <tr>\n",
       "      <th>2019-09-13 08:00:00</th>\n",
       "      <td>43.30</td>\n",
       "    </tr>\n",
       "    <tr>\n",
       "      <th>2019-09-13 09:00:00</th>\n",
       "      <td>48.00</td>\n",
       "    </tr>\n",
       "    <tr>\n",
       "      <th>...</th>\n",
       "      <td>...</td>\n",
       "    </tr>\n",
       "    <tr>\n",
       "      <th>2020-01-11 13:00:00</th>\n",
       "      <td>89.39</td>\n",
       "    </tr>\n",
       "    <tr>\n",
       "      <th>2020-01-11 14:00:00</th>\n",
       "      <td>77.89</td>\n",
       "    </tr>\n",
       "    <tr>\n",
       "      <th>2020-01-11 15:00:00</th>\n",
       "      <td>64.70</td>\n",
       "    </tr>\n",
       "    <tr>\n",
       "      <th>2020-01-11 16:00:00</th>\n",
       "      <td>64.13</td>\n",
       "    </tr>\n",
       "    <tr>\n",
       "      <th>2020-01-11 17:00:00</th>\n",
       "      <td>60.89</td>\n",
       "    </tr>\n",
       "  </tbody>\n",
       "</table>\n",
       "<p>2893 rows × 1 columns</p>\n",
       "</div>"
      ],
      "text/plain": [
       "                     PM2.5\n",
       "date                      \n",
       "2019-09-13 05:00:00  28.34\n",
       "2019-09-13 06:00:00  32.36\n",
       "2019-09-13 07:00:00  58.58\n",
       "2019-09-13 08:00:00  43.30\n",
       "2019-09-13 09:00:00  48.00\n",
       "...                    ...\n",
       "2020-01-11 13:00:00  89.39\n",
       "2020-01-11 14:00:00  77.89\n",
       "2020-01-11 15:00:00  64.70\n",
       "2020-01-11 16:00:00  64.13\n",
       "2020-01-11 17:00:00  60.89\n",
       "\n",
       "[2893 rows x 1 columns]"
      ]
     },
     "execution_count": 6,
     "metadata": {},
     "output_type": "execute_result"
    }
   ],
   "source": [
    "pm"
   ]
  },
  {
   "cell_type": "code",
   "execution_count": 7,
   "metadata": {},
   "outputs": [],
   "source": [
    "df = pm.copy()"
   ]
  },
  {
   "cell_type": "code",
   "execution_count": 8,
   "metadata": {},
   "outputs": [
    {
     "data": {
      "text/plain": [
       "PM2.5    1142\n",
       "dtype: int64"
      ]
     },
     "execution_count": 8,
     "metadata": {},
     "output_type": "execute_result"
    }
   ],
   "source": [
    "df.isna().sum()"
   ]
  },
  {
   "cell_type": "code",
   "execution_count": 9,
   "metadata": {},
   "outputs": [],
   "source": [
    "df = df.interpolate(method ='linear')"
   ]
  },
  {
   "cell_type": "code",
   "execution_count": 10,
   "metadata": {},
   "outputs": [
    {
     "data": {
      "text/plain": [
       "<AxesSubplot:xlabel='date'>"
      ]
     },
     "execution_count": 10,
     "metadata": {},
     "output_type": "execute_result"
    },
    {
     "data": {
      "image/png": "[encoded data removed]",
      "text/plain": [
       "<Figure size 432x288 with 1 Axes>"
      ]
     },
     "metadata": {
      "needs_background": "light"
     },
     "output_type": "display_data"
    }
   ],
   "source": [
    "df.plot()"
   ]
  },
  {
   "cell_type": "code",
   "execution_count": 11,
   "metadata": {},
   "outputs": [
    {
     "data": {
      "text/plain": [
       "2893"
      ]
     },
     "execution_count": 11,
     "metadata": {},
     "output_type": "execute_result"
    }
   ],
   "source": [
    "len(df)"
   ]
  },
  {
   "cell_type": "code",
   "execution_count": 12,
   "metadata": {},
   "outputs": [],
   "source": [
    "train = df.iloc[:2869]\n",
    "test = df.iloc[2869:]\n",
    "\n",
    "scaler = MinMaxScaler()"
   ]
  },
  {
   "cell_type": "code",
   "execution_count": 13,
   "metadata": {},
   "outputs": [],
   "source": [
    "scaler.fit(train)\n",
    "scaled_train = scaler.transform(train)\n",
    "scaled_test = scaler.transform(test)"
   ]
  },
  {
   "cell_type": "code",
   "execution_count": 14,
   "metadata": {},
   "outputs": [
    {
     "data": {
      "image/png": "[encoded data removed]",
      "text/plain": [
       "<Figure size 720x360 with 1 Axes>"
      ]
     },
     "metadata": {
      "needs_background": "light"
     },
     "output_type": "display_data"
    }
   ],
   "source": [
    "plt.figure(figsize=(10, 5))\n",
    "\n",
    "plt.plot(train, label = 'Train')\n",
    "plt.plot(test, label = 'Test')\n",
    "\n",
    "plt.xlabel('Months', fontsize=18)\n",
    "plt.ylabel('Passengers', fontsize=18)\n",
    "\n",
    "plt.xticks(fontsize=14)\n",
    "plt.yticks(fontsize=14)\n",
    "\n",
    "plt.legend(loc='lower left', bbox_to_anchor= (0.0, 1.01), ncol=3, \n",
    "           borderaxespad=0, frameon=False, prop={\"size\":15})\n",
    "\n",
    "plt.show()\n"
   ]
  },
  {
   "cell_type": "code",
   "execution_count": 15,
   "metadata": {},
   "outputs": [],
   "source": [
    "n_input = 24\n",
    "n_features = 1\n",
    "\n",
    "def generate_data(data, n_input):\n",
    "    X, y = [], []\n",
    "    for i in range(0,len(data)-n_input):\n",
    "            X.append(data[i:i+n_input])\n",
    "            y.append(data[i+n_input])\n",
    "    return np.array(X), np.array(y)\n",
    "\n",
    "X, y = generate_data(scaled_train, n_input)"
   ]
  },
  {
   "cell_type": "markdown",
   "metadata": {},
   "source": [
    "# Original LSTM"
   ]
  },
  {
   "cell_type": "code",
   "execution_count": 16,
   "metadata": {},
   "outputs": [
    {
     "name": "stdout",
     "output_type": "stream",
     "text": [
      "Model: \"sequential\"\n",
      "_________________________________________________________________\n",
      "Layer (type)                 Output Shape              Param #   \n",
      "=================================================================\n",
      "lstm (LSTM)                  (None, 200)               161600    \n",
      "_________________________________________________________________\n",
      "dense (Dense)                (None, 1)                 201       \n",
      "=================================================================\n",
      "Total params: 161,801\n",
      "Trainable params: 161,801\n",
      "Non-trainable params: 0\n",
      "_________________________________________________________________\n"
     ]
    }
   ],
   "source": [
    "model = Sequential()\n",
    "model.add(LSTM(200, input_shape=(n_input, n_features)))\n",
    "model.add(Dense(1))\n",
    "model.compile(loss='mse')\n",
    "\n",
    "model.summary()"
   ]
  },
  {
   "cell_type": "code",
   "execution_count": 17,
   "metadata": {},
   "outputs": [
    {
     "data": {
      "text/plain": [
       "<keras.callbacks.History at 0x217a88ffa30>"
      ]
     },
     "execution_count": 17,
     "metadata": {},
     "output_type": "execute_result"
    }
   ],
   "source": [
    "model.fit(X, y, epochs=50, verbose=0)"
   ]
  },
  {
   "cell_type": "code",
   "execution_count": 18,
   "metadata": {},
   "outputs": [
    {
     "data": {
      "text/plain": [
       "[array([0.13810894], dtype=float32),\n",
       " array([0.14404738], dtype=float32),\n",
       " array([0.14451532], dtype=float32),\n",
       " array([0.14708191], dtype=float32),\n",
       " array([0.14836966], dtype=float32),\n",
       " array([0.14615086], dtype=float32),\n",
       " array([0.14044298], dtype=float32),\n",
       " array([0.13237013], dtype=float32),\n",
       " array([0.12340589], dtype=float32),\n",
       " array([0.11657493], dtype=float32),\n",
       " array([0.11331433], dtype=float32),\n",
       " array([0.11399436], dtype=float32),\n",
       " array([0.11774871], dtype=float32),\n",
       " array([0.12180553], dtype=float32),\n",
       " array([0.12262592], dtype=float32),\n",
       " array([0.11878286], dtype=float32),\n",
       " array([0.1111514], dtype=float32),\n",
       " array([0.10113178], dtype=float32),\n",
       " array([0.09076098], dtype=float32),\n",
       " array([0.08148362], dtype=float32),\n",
       " array([0.07436654], dtype=float32),\n",
       " array([0.06987072], dtype=float32),\n",
       " array([0.06828785], dtype=float32),\n",
       " array([0.06974489], dtype=float32)]"
      ]
     },
     "execution_count": 18,
     "metadata": {},
     "output_type": "execute_result"
    }
   ],
   "source": [
    "test_predictions = []\n",
    "\n",
    "first_eval_batch = scaled_train[-n_input:]\n",
    "current_batch = first_eval_batch.reshape((1, n_input, n_features))\n",
    "\n",
    "for i in range(len(test)):\n",
    "    current_pred = model.predict(current_batch)[0]\n",
    "    \n",
    "    test_predictions.append(current_pred)\n",
    "    \n",
    "    current_batch = np.append(current_batch[:,1:,:],[[current_pred]], axis=1)\n",
    "    \n",
    "test_predictions"
   ]
  },
  {
   "cell_type": "code",
   "execution_count": 19,
   "metadata": {},
   "outputs": [],
   "source": [
    "true_predictions = scaler.inverse_transform(test_predictions)\n",
    "\n",
    "test['original_LSTM'] = true_predictions"
   ]
  },
  {
   "cell_type": "code",
   "execution_count": 20,
   "metadata": {},
   "outputs": [
    {
     "data": {
      "text/plain": [
       "<AxesSubplot:xlabel='date'>"
      ]
     },
     "execution_count": 20,
     "metadata": {},
     "output_type": "execute_result"
    },
    {
     "data": {
      "image/png": "[encoded data removed]",
      "text/plain": [
       "<Figure size 432x288 with 1 Axes>"
      ]
     },
     "metadata": {
      "needs_background": "light"
     },
     "output_type": "display_data"
    }
   ],
   "source": [
    "test.plot()"
   ]
  },
  {
   "cell_type": "code",
   "execution_count": 21,
   "metadata": {},
   "outputs": [
    {
     "name": "stdout",
     "output_type": "stream",
     "text": [
      "54.57279211878325\n"
     ]
    }
   ],
   "source": [
    "rmse = sqrt(mean_squared_error(test['PM2.5'], test['original_LSTM']))\n",
    "print(rmse)"
   ]
  },
  {
   "cell_type": "code",
   "execution_count": 22,
   "metadata": {},
   "outputs": [
    {
     "data": {
      "text/html": [
       "<div>\n",
       "<style scoped>\n",
       "    .dataframe tbody tr th:only-of-type {\n",
       "        vertical-align: middle;\n",
       "    }\n",
       "\n",
       "    .dataframe tbody tr th {\n",
       "        vertical-align: top;\n",
       "    }\n",
       "\n",
       "    .dataframe thead th {\n",
       "        text-align: right;\n",
       "    }\n",
       "</style>\n",
       "<table border=\"1\" class=\"dataframe\">\n",
       "  <thead>\n",
       "    <tr style=\"text-align: right;\">\n",
       "      <th></th>\n",
       "      <th>PM2.5</th>\n",
       "      <th>original_LSTM</th>\n",
       "    </tr>\n",
       "    <tr>\n",
       "      <th>date</th>\n",
       "      <th></th>\n",
       "      <th></th>\n",
       "    </tr>\n",
       "  </thead>\n",
       "  <tbody>\n",
       "    <tr>\n",
       "      <th>2020-01-10 18:00:00</th>\n",
       "      <td>204.77</td>\n",
       "      <td>124.592485</td>\n",
       "    </tr>\n",
       "    <tr>\n",
       "      <th>2020-01-10 19:00:00</th>\n",
       "      <td>249.29</td>\n",
       "      <td>129.797528</td>\n",
       "    </tr>\n",
       "    <tr>\n",
       "      <th>2020-01-10 20:00:00</th>\n",
       "      <td>231.89</td>\n",
       "      <td>130.207679</td>\n",
       "    </tr>\n",
       "    <tr>\n",
       "      <th>2020-01-10 21:00:00</th>\n",
       "      <td>131.43</td>\n",
       "      <td>132.457295</td>\n",
       "    </tr>\n",
       "    <tr>\n",
       "      <th>2020-01-10 22:00:00</th>\n",
       "      <td>106.64</td>\n",
       "      <td>133.586003</td>\n",
       "    </tr>\n",
       "    <tr>\n",
       "      <th>2020-01-10 23:00:00</th>\n",
       "      <td>101.65</td>\n",
       "      <td>131.641226</td>\n",
       "    </tr>\n",
       "    <tr>\n",
       "      <th>2020-01-11 00:00:00</th>\n",
       "      <td>99.95</td>\n",
       "      <td>126.638274</td>\n",
       "    </tr>\n",
       "    <tr>\n",
       "      <th>2020-01-11 01:00:00</th>\n",
       "      <td>100.23</td>\n",
       "      <td>119.562418</td>\n",
       "    </tr>\n",
       "    <tr>\n",
       "      <th>2020-01-11 02:00:00</th>\n",
       "      <td>105.74</td>\n",
       "      <td>111.705261</td>\n",
       "    </tr>\n",
       "    <tr>\n",
       "      <th>2020-01-11 03:00:00</th>\n",
       "      <td>149.26</td>\n",
       "      <td>105.717925</td>\n",
       "    </tr>\n",
       "    <tr>\n",
       "      <th>2020-01-11 04:00:00</th>\n",
       "      <td>151.59</td>\n",
       "      <td>102.860011</td>\n",
       "    </tr>\n",
       "    <tr>\n",
       "      <th>2020-01-11 05:00:00</th>\n",
       "      <td>186.50</td>\n",
       "      <td>103.456057</td>\n",
       "    </tr>\n",
       "    <tr>\n",
       "      <th>2020-01-11 06:00:00</th>\n",
       "      <td>174.40</td>\n",
       "      <td>106.746742</td>\n",
       "    </tr>\n",
       "    <tr>\n",
       "      <th>2020-01-11 07:00:00</th>\n",
       "      <td>241.11</td>\n",
       "      <td>110.302550</td>\n",
       "    </tr>\n",
       "    <tr>\n",
       "      <th>2020-01-11 08:00:00</th>\n",
       "      <td>174.19</td>\n",
       "      <td>111.021616</td>\n",
       "    </tr>\n",
       "    <tr>\n",
       "      <th>2020-01-11 09:00:00</th>\n",
       "      <td>120.95</td>\n",
       "      <td>107.653179</td>\n",
       "    </tr>\n",
       "    <tr>\n",
       "      <th>2020-01-11 10:00:00</th>\n",
       "      <td>109.48</td>\n",
       "      <td>100.964200</td>\n",
       "    </tr>\n",
       "    <tr>\n",
       "      <th>2020-01-11 11:00:00</th>\n",
       "      <td>99.97</td>\n",
       "      <td>92.182007</td>\n",
       "    </tr>\n",
       "    <tr>\n",
       "      <th>2020-01-11 12:00:00</th>\n",
       "      <td>97.94</td>\n",
       "      <td>83.092002</td>\n",
       "    </tr>\n",
       "    <tr>\n",
       "      <th>2020-01-11 13:00:00</th>\n",
       "      <td>89.39</td>\n",
       "      <td>74.960397</td>\n",
       "    </tr>\n",
       "    <tr>\n",
       "      <th>2020-01-11 14:00:00</th>\n",
       "      <td>77.89</td>\n",
       "      <td>68.722272</td>\n",
       "    </tr>\n",
       "    <tr>\n",
       "      <th>2020-01-11 15:00:00</th>\n",
       "      <td>64.70</td>\n",
       "      <td>64.781684</td>\n",
       "    </tr>\n",
       "    <tr>\n",
       "      <th>2020-01-11 16:00:00</th>\n",
       "      <td>64.13</td>\n",
       "      <td>63.394300</td>\n",
       "    </tr>\n",
       "    <tr>\n",
       "      <th>2020-01-11 17:00:00</th>\n",
       "      <td>60.89</td>\n",
       "      <td>64.671398</td>\n",
       "    </tr>\n",
       "  </tbody>\n",
       "</table>\n",
       "</div>"
      ],
      "text/plain": [
       "                      PM2.5  original_LSTM\n",
       "date                                      \n",
       "2020-01-10 18:00:00  204.77     124.592485\n",
       "2020-01-10 19:00:00  249.29     129.797528\n",
       "2020-01-10 20:00:00  231.89     130.207679\n",
       "2020-01-10 21:00:00  131.43     132.457295\n",
       "2020-01-10 22:00:00  106.64     133.586003\n",
       "2020-01-10 23:00:00  101.65     131.641226\n",
       "2020-01-11 00:00:00   99.95     126.638274\n",
       "2020-01-11 01:00:00  100.23     119.562418\n",
       "2020-01-11 02:00:00  105.74     111.705261\n",
       "2020-01-11 03:00:00  149.26     105.717925\n",
       "2020-01-11 04:00:00  151.59     102.860011\n",
       "2020-01-11 05:00:00  186.50     103.456057\n",
       "2020-01-11 06:00:00  174.40     106.746742\n",
       "2020-01-11 07:00:00  241.11     110.302550\n",
       "2020-01-11 08:00:00  174.19     111.021616\n",
       "2020-01-11 09:00:00  120.95     107.653179\n",
       "2020-01-11 10:00:00  109.48     100.964200\n",
       "2020-01-11 11:00:00   99.97      92.182007\n",
       "2020-01-11 12:00:00   97.94      83.092002\n",
       "2020-01-11 13:00:00   89.39      74.960397\n",
       "2020-01-11 14:00:00   77.89      68.722272\n",
       "2020-01-11 15:00:00   64.70      64.781684\n",
       "2020-01-11 16:00:00   64.13      63.394300\n",
       "2020-01-11 17:00:00   60.89      64.671398"
      ]
     },
     "execution_count": 22,
     "metadata": {},
     "output_type": "execute_result"
    }
   ],
   "source": [
    "test"
   ]
  },
  {
   "cell_type": "markdown",
   "metadata": {},
   "source": [
    "# SELF_MADE_LSTM"
   ]
  },
  {
   "cell_type": "code",
   "execution_count": 23,
   "metadata": {},
   "outputs": [],
   "source": [
    "self_model = LSTM_SS(1, 1, 200, n_input, 0.01)"
   ]
  },
  {
   "cell_type": "code",
   "execution_count": 24,
   "metadata": {},
   "outputs": [],
   "source": [
    "self_model.fit(50, X, y, verbose=False)"
   ]
  },
  {
   "cell_type": "code",
   "execution_count": 25,
   "metadata": {
    "scrolled": true
   },
   "outputs": [
    {
     "data": {
      "text/plain": [
       "[array([0.07399956]),\n",
       " array([0.10784375]),\n",
       " array([0.1050097]),\n",
       " array([0.10043282]),\n",
       " array([0.11616077]),\n",
       " array([0.19847141]),\n",
       " array([0.0701319]),\n",
       " array([0.08136047]),\n",
       " array([0.09663933]),\n",
       " array([0.09297305]),\n",
       " array([0.10888925]),\n",
       " array([0.13251731]),\n",
       " array([0.11647196]),\n",
       " array([0.09161673]),\n",
       " array([0.10338498]),\n",
       " array([0.08857289]),\n",
       " array([0.08797355]),\n",
       " array([0.07579334]),\n",
       " array([0.07416769]),\n",
       " array([0.07192425]),\n",
       " array([0.05922851]),\n",
       " array([0.10912709]),\n",
       " array([0.06067051]),\n",
       " array([0.0896217])]"
      ]
     },
     "execution_count": 25,
     "metadata": {},
     "output_type": "execute_result"
    }
   ],
   "source": [
    "test_predictions = []\n",
    "\n",
    "first_eval_batch = scaled_train[-n_input:]\n",
    "current_batch = first_eval_batch.reshape((1, n_input, n_features))\n",
    "\n",
    "for i in range(len(test)):\n",
    "    current_pred = self_model.predict(current_batch)[0]\n",
    "    \n",
    "    test_predictions.append(current_pred)\n",
    "    \n",
    "    current_batch = np.append(current_batch[:,1:,:],[[current_pred]], axis=1)\n",
    "    \n",
    "test_predictions"
   ]
  },
  {
   "cell_type": "code",
   "execution_count": 26,
   "metadata": {},
   "outputs": [],
   "source": [
    "true_predictions = scaler.inverse_transform(test_predictions)\n",
    "\n",
    "test['SELF_MADE_LSTM'] = true_predictions"
   ]
  },
  {
   "cell_type": "code",
   "execution_count": 27,
   "metadata": {},
   "outputs": [
    {
     "data": {
      "text/plain": [
       "<AxesSubplot:xlabel='date'>"
      ]
     },
     "execution_count": 27,
     "metadata": {},
     "output_type": "execute_result"
    },
    {
     "data": {
      "image/png": "[encoded data removed]",
      "text/plain": [
       "<Figure size 432x288 with 1 Axes>"
      ]
     },
     "metadata": {
      "needs_background": "light"
     },
     "output_type": "display_data"
    }
   ],
   "source": [
    "test.plot()"
   ]
  },
  {
   "cell_type": "code",
   "execution_count": 28,
   "metadata": {},
   "outputs": [
    {
     "name": "stdout",
     "output_type": "stream",
     "text": [
      "71.7866353753504\n"
     ]
    }
   ],
   "source": [
    "rmse = sqrt(mean_squared_error(test['PM2.5'], test['SELF_MADE_LSTM']))\n",
    "print(rmse)"
   ]
  },
  {
   "cell_type": "code",
   "execution_count": 29,
   "metadata": {},
   "outputs": [
    {
     "data": {
      "text/html": [
       "<div>\n",
       "<style scoped>\n",
       "    .dataframe tbody tr th:only-of-type {\n",
       "        vertical-align: middle;\n",
       "    }\n",
       "\n",
       "    .dataframe tbody tr th {\n",
       "        vertical-align: top;\n",
       "    }\n",
       "\n",
       "    .dataframe thead th {\n",
       "        text-align: right;\n",
       "    }\n",
       "</style>\n",
       "<table border=\"1\" class=\"dataframe\">\n",
       "  <thead>\n",
       "    <tr style=\"text-align: right;\">\n",
       "      <th></th>\n",
       "      <th>PM2.5</th>\n",
       "      <th>original_LSTM</th>\n",
       "      <th>SELF_MADE_LSTM</th>\n",
       "    </tr>\n",
       "    <tr>\n",
       "      <th>date</th>\n",
       "      <th></th>\n",
       "      <th></th>\n",
       "      <th></th>\n",
       "    </tr>\n",
       "  </thead>\n",
       "  <tbody>\n",
       "    <tr>\n",
       "      <th>2020-01-10 18:00:00</th>\n",
       "      <td>204.77</td>\n",
       "      <td>124.592485</td>\n",
       "      <td>68.400611</td>\n",
       "    </tr>\n",
       "    <tr>\n",
       "      <th>2020-01-10 19:00:00</th>\n",
       "      <td>249.29</td>\n",
       "      <td>129.797528</td>\n",
       "      <td>98.065048</td>\n",
       "    </tr>\n",
       "    <tr>\n",
       "      <th>2020-01-10 20:00:00</th>\n",
       "      <td>231.89</td>\n",
       "      <td>130.207679</td>\n",
       "      <td>95.581004</td>\n",
       "    </tr>\n",
       "    <tr>\n",
       "      <th>2020-01-10 21:00:00</th>\n",
       "      <td>131.43</td>\n",
       "      <td>132.457295</td>\n",
       "      <td>91.569364</td>\n",
       "    </tr>\n",
       "    <tr>\n",
       "      <th>2020-01-10 22:00:00</th>\n",
       "      <td>106.64</td>\n",
       "      <td>133.586003</td>\n",
       "      <td>105.354914</td>\n",
       "    </tr>\n",
       "    <tr>\n",
       "      <th>2020-01-10 23:00:00</th>\n",
       "      <td>101.65</td>\n",
       "      <td>131.641226</td>\n",
       "      <td>177.500192</td>\n",
       "    </tr>\n",
       "    <tr>\n",
       "      <th>2020-01-11 00:00:00</th>\n",
       "      <td>99.95</td>\n",
       "      <td>126.638274</td>\n",
       "      <td>65.010613</td>\n",
       "    </tr>\n",
       "    <tr>\n",
       "      <th>2020-01-11 01:00:00</th>\n",
       "      <td>100.23</td>\n",
       "      <td>119.562418</td>\n",
       "      <td>74.852449</td>\n",
       "    </tr>\n",
       "    <tr>\n",
       "      <th>2020-01-11 02:00:00</th>\n",
       "      <td>105.74</td>\n",
       "      <td>111.705261</td>\n",
       "      <td>88.244373</td>\n",
       "    </tr>\n",
       "    <tr>\n",
       "      <th>2020-01-11 03:00:00</th>\n",
       "      <td>149.26</td>\n",
       "      <td>105.717925</td>\n",
       "      <td>85.030883</td>\n",
       "    </tr>\n",
       "    <tr>\n",
       "      <th>2020-01-11 04:00:00</th>\n",
       "      <td>151.59</td>\n",
       "      <td>102.860011</td>\n",
       "      <td>98.981430</td>\n",
       "    </tr>\n",
       "    <tr>\n",
       "      <th>2020-01-11 05:00:00</th>\n",
       "      <td>186.50</td>\n",
       "      <td>103.456057</td>\n",
       "      <td>119.691424</td>\n",
       "    </tr>\n",
       "    <tr>\n",
       "      <th>2020-01-11 06:00:00</th>\n",
       "      <td>174.40</td>\n",
       "      <td>106.746742</td>\n",
       "      <td>105.627677</td>\n",
       "    </tr>\n",
       "    <tr>\n",
       "      <th>2020-01-11 07:00:00</th>\n",
       "      <td>241.11</td>\n",
       "      <td>110.302550</td>\n",
       "      <td>83.842068</td>\n",
       "    </tr>\n",
       "    <tr>\n",
       "      <th>2020-01-11 08:00:00</th>\n",
       "      <td>174.19</td>\n",
       "      <td>111.021616</td>\n",
       "      <td>94.156939</td>\n",
       "    </tr>\n",
       "    <tr>\n",
       "      <th>2020-01-11 09:00:00</th>\n",
       "      <td>120.95</td>\n",
       "      <td>107.653179</td>\n",
       "      <td>81.174135</td>\n",
       "    </tr>\n",
       "    <tr>\n",
       "      <th>2020-01-11 10:00:00</th>\n",
       "      <td>109.48</td>\n",
       "      <td>100.964200</td>\n",
       "      <td>80.648818</td>\n",
       "    </tr>\n",
       "    <tr>\n",
       "      <th>2020-01-11 11:00:00</th>\n",
       "      <td>99.97</td>\n",
       "      <td>92.182007</td>\n",
       "      <td>69.972861</td>\n",
       "    </tr>\n",
       "    <tr>\n",
       "      <th>2020-01-11 12:00:00</th>\n",
       "      <td>97.94</td>\n",
       "      <td>83.092002</td>\n",
       "      <td>68.547983</td>\n",
       "    </tr>\n",
       "    <tr>\n",
       "      <th>2020-01-11 13:00:00</th>\n",
       "      <td>89.39</td>\n",
       "      <td>74.960397</td>\n",
       "      <td>66.581603</td>\n",
       "    </tr>\n",
       "    <tr>\n",
       "      <th>2020-01-11 14:00:00</th>\n",
       "      <td>77.89</td>\n",
       "      <td>68.722272</td>\n",
       "      <td>55.453790</td>\n",
       "    </tr>\n",
       "    <tr>\n",
       "      <th>2020-01-11 15:00:00</th>\n",
       "      <td>64.70</td>\n",
       "      <td>64.781684</td>\n",
       "      <td>99.189895</td>\n",
       "    </tr>\n",
       "    <tr>\n",
       "      <th>2020-01-11 16:00:00</th>\n",
       "      <td>64.13</td>\n",
       "      <td>63.394300</td>\n",
       "      <td>56.717702</td>\n",
       "    </tr>\n",
       "    <tr>\n",
       "      <th>2020-01-11 17:00:00</th>\n",
       "      <td>60.89</td>\n",
       "      <td>64.671398</td>\n",
       "      <td>82.093424</td>\n",
       "    </tr>\n",
       "  </tbody>\n",
       "</table>\n",
       "</div>"
      ],
      "text/plain": [
       "                      PM2.5  original_LSTM  SELF_MADE_LSTM\n",
       "date                                                      \n",
       "2020-01-10 18:00:00  204.77     124.592485       68.400611\n",
       "2020-01-10 19:00:00  249.29     129.797528       98.065048\n",
       "2020-01-10 20:00:00  231.89     130.207679       95.581004\n",
       "2020-01-10 21:00:00  131.43     132.457295       91.569364\n",
       "2020-01-10 22:00:00  106.64     133.586003      105.354914\n",
       "2020-01-10 23:00:00  101.65     131.641226      177.500192\n",
       "2020-01-11 00:00:00   99.95     126.638274       65.010613\n",
       "2020-01-11 01:00:00  100.23     119.562418       74.852449\n",
       "2020-01-11 02:00:00  105.74     111.705261       88.244373\n",
       "2020-01-11 03:00:00  149.26     105.717925       85.030883\n",
       "2020-01-11 04:00:00  151.59     102.860011       98.981430\n",
       "2020-01-11 05:00:00  186.50     103.456057      119.691424\n",
       "2020-01-11 06:00:00  174.40     106.746742      105.627677\n",
       "2020-01-11 07:00:00  241.11     110.302550       83.842068\n",
       "2020-01-11 08:00:00  174.19     111.021616       94.156939\n",
       "2020-01-11 09:00:00  120.95     107.653179       81.174135\n",
       "2020-01-11 10:00:00  109.48     100.964200       80.648818\n",
       "2020-01-11 11:00:00   99.97      92.182007       69.972861\n",
       "2020-01-11 12:00:00   97.94      83.092002       68.547983\n",
       "2020-01-11 13:00:00   89.39      74.960397       66.581603\n",
       "2020-01-11 14:00:00   77.89      68.722272       55.453790\n",
       "2020-01-11 15:00:00   64.70      64.781684       99.189895\n",
       "2020-01-11 16:00:00   64.13      63.394300       56.717702\n",
       "2020-01-11 17:00:00   60.89      64.671398       82.093424"
      ]
     },
     "execution_count": 29,
     "metadata": {},
     "output_type": "execute_result"
    }
   ],
   "source": [
    "test"
   ]
  },
  {
   "cell_type": "code",
   "execution_count": null,
   "metadata": {},
   "outputs": [],
   "source": []
  },
  {
   "cell_type": "code",
   "execution_count": null,
   "metadata": {},
   "outputs": [],
   "source": []
  }
 ],
 "metadata": {
  "kernelspec": {
   "display_name": "Python 3",
   "language": "python",
   "name": "python3"
  },
  "language_info": {
   "codemirror_mode": {
    "name": "ipython",
    "version": 3
   },
   "file_extension": ".py",
   "mimetype": "text/x-python",
   "name": "python",
   "nbconvert_exporter": "python",
   "pygments_lexer": "ipython3",
   "version": "3.8.5"
  }
 },
 "nbformat": 4,
 "nbformat_minor": 4
}
