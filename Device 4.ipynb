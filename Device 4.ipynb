{
 "cells": [
  {
   "cell_type": "code",
   "execution_count": 1,
   "metadata": {},
   "outputs": [],
   "source": [
    "from lstm_module import LSTM_SS\n",
    "import pandas as pd\n",
    "import numpy as np\n",
    "import matplotlib.pyplot as plt\n",
    "from keras.models import Sequential\n",
    "from keras.layers import Dense, LSTM\n",
    "from sklearn.preprocessing import MinMaxScaler\n",
    "from sklearn.metrics import mean_squared_error\n",
    "from math import sqrt\n",
    "import warnings\n",
    "\n",
    "warnings.filterwarnings(\"ignore\")"
   ]
  },
  {
   "cell_type": "code",
   "execution_count": 2,
   "metadata": {},
   "outputs": [],
   "source": [
    "df = pd.read_csv('C:/Users/shail/Desktop/project/raw data/Device-4.csv')\n",
    "\n",
    "df.columns = ['SNo','temp','hum','co','no2','pm2_5','pm10','date']\n",
    "date = df['date']\n",
    "df = df.drop([\"SNo\"],axis=1)\n",
    "df['date'] = pd.to_datetime(df['date'])\n",
    "#df.index.freq='MS'"
   ]
  },
  {
   "cell_type": "code",
   "execution_count": 3,
   "metadata": {},
   "outputs": [],
   "source": [
    "df = df[(df['co'] > 0) & (df['no2'] > 0) & (df['pm2_5'] > 0) & (df['pm10'] > 0)]"
   ]
  },
  {
   "cell_type": "code",
   "execution_count": 4,
   "metadata": {},
   "outputs": [
    {
     "data": {
      "text/html": [
       "<div>\n",
       "<style scoped>\n",
       "    .dataframe tbody tr th:only-of-type {\n",
       "        vertical-align: middle;\n",
       "    }\n",
       "\n",
       "    .dataframe tbody tr th {\n",
       "        vertical-align: top;\n",
       "    }\n",
       "\n",
       "    .dataframe thead th {\n",
       "        text-align: right;\n",
       "    }\n",
       "</style>\n",
       "<table border=\"1\" class=\"dataframe\">\n",
       "  <thead>\n",
       "    <tr style=\"text-align: right;\">\n",
       "      <th></th>\n",
       "      <th>TEMP</th>\n",
       "      <th>HUM</th>\n",
       "      <th>CO</th>\n",
       "      <th>NO2</th>\n",
       "      <th>PM2.5</th>\n",
       "      <th>PM10</th>\n",
       "    </tr>\n",
       "    <tr>\n",
       "      <th>date</th>\n",
       "      <th></th>\n",
       "      <th></th>\n",
       "      <th></th>\n",
       "      <th></th>\n",
       "      <th></th>\n",
       "      <th></th>\n",
       "    </tr>\n",
       "  </thead>\n",
       "  <tbody>\n",
       "    <tr>\n",
       "      <th>2019-09-13 16:00:00</th>\n",
       "      <td>17.69</td>\n",
       "      <td>61.16</td>\n",
       "      <td>6.32</td>\n",
       "      <td>19.40</td>\n",
       "      <td>32.73</td>\n",
       "      <td>45.76</td>\n",
       "    </tr>\n",
       "    <tr>\n",
       "      <th>2019-09-13 17:00:00</th>\n",
       "      <td>16.80</td>\n",
       "      <td>67.48</td>\n",
       "      <td>6.43</td>\n",
       "      <td>19.40</td>\n",
       "      <td>38.32</td>\n",
       "      <td>53.31</td>\n",
       "    </tr>\n",
       "    <tr>\n",
       "      <th>2019-09-13 18:00:00</th>\n",
       "      <td>17.00</td>\n",
       "      <td>66.82</td>\n",
       "      <td>6.21</td>\n",
       "      <td>19.40</td>\n",
       "      <td>27.65</td>\n",
       "      <td>38.68</td>\n",
       "    </tr>\n",
       "    <tr>\n",
       "      <th>2019-09-13 19:00:00</th>\n",
       "      <td>16.40</td>\n",
       "      <td>63.55</td>\n",
       "      <td>5.78</td>\n",
       "      <td>19.39</td>\n",
       "      <td>22.28</td>\n",
       "      <td>31.30</td>\n",
       "    </tr>\n",
       "    <tr>\n",
       "      <th>2019-09-13 20:00:00</th>\n",
       "      <td>15.73</td>\n",
       "      <td>66.26</td>\n",
       "      <td>6.06</td>\n",
       "      <td>19.39</td>\n",
       "      <td>22.89</td>\n",
       "      <td>31.97</td>\n",
       "    </tr>\n",
       "    <tr>\n",
       "      <th>...</th>\n",
       "      <td>...</td>\n",
       "      <td>...</td>\n",
       "      <td>...</td>\n",
       "      <td>...</td>\n",
       "      <td>...</td>\n",
       "      <td>...</td>\n",
       "    </tr>\n",
       "    <tr>\n",
       "      <th>2020-01-11 13:00:00</th>\n",
       "      <td>16.18</td>\n",
       "      <td>44.28</td>\n",
       "      <td>44.00</td>\n",
       "      <td>1.32</td>\n",
       "      <td>78.92</td>\n",
       "      <td>109.69</td>\n",
       "    </tr>\n",
       "    <tr>\n",
       "      <th>2020-01-11 14:00:00</th>\n",
       "      <td>20.59</td>\n",
       "      <td>31.49</td>\n",
       "      <td>44.00</td>\n",
       "      <td>1.27</td>\n",
       "      <td>65.24</td>\n",
       "      <td>90.83</td>\n",
       "    </tr>\n",
       "    <tr>\n",
       "      <th>2020-01-11 15:00:00</th>\n",
       "      <td>19.94</td>\n",
       "      <td>31.55</td>\n",
       "      <td>44.00</td>\n",
       "      <td>1.20</td>\n",
       "      <td>54.23</td>\n",
       "      <td>75.30</td>\n",
       "    </tr>\n",
       "    <tr>\n",
       "      <th>2020-01-11 16:00:00</th>\n",
       "      <td>15.12</td>\n",
       "      <td>44.14</td>\n",
       "      <td>44.00</td>\n",
       "      <td>1.27</td>\n",
       "      <td>52.97</td>\n",
       "      <td>73.66</td>\n",
       "    </tr>\n",
       "    <tr>\n",
       "      <th>2020-01-11 17:00:00</th>\n",
       "      <td>13.61</td>\n",
       "      <td>48.00</td>\n",
       "      <td>44.00</td>\n",
       "      <td>1.13</td>\n",
       "      <td>77.85</td>\n",
       "      <td>108.38</td>\n",
       "    </tr>\n",
       "  </tbody>\n",
       "</table>\n",
       "<p>2882 rows × 6 columns</p>\n",
       "</div>"
      ],
      "text/plain": [
       "                      TEMP    HUM     CO    NO2  PM2.5    PM10\n",
       "date                                                          \n",
       "2019-09-13 16:00:00  17.69  61.16   6.32  19.40  32.73   45.76\n",
       "2019-09-13 17:00:00  16.80  67.48   6.43  19.40  38.32   53.31\n",
       "2019-09-13 18:00:00  17.00  66.82   6.21  19.40  27.65   38.68\n",
       "2019-09-13 19:00:00  16.40  63.55   5.78  19.39  22.28   31.30\n",
       "2019-09-13 20:00:00  15.73  66.26   6.06  19.39  22.89   31.97\n",
       "...                    ...    ...    ...    ...    ...     ...\n",
       "2020-01-11 13:00:00  16.18  44.28  44.00   1.32  78.92  109.69\n",
       "2020-01-11 14:00:00  20.59  31.49  44.00   1.27  65.24   90.83\n",
       "2020-01-11 15:00:00  19.94  31.55  44.00   1.20  54.23   75.30\n",
       "2020-01-11 16:00:00  15.12  44.14  44.00   1.27  52.97   73.66\n",
       "2020-01-11 17:00:00  13.61  48.00  44.00   1.13  77.85  108.38\n",
       "\n",
       "[2882 rows x 6 columns]"
      ]
     },
     "execution_count": 4,
     "metadata": {},
     "output_type": "execute_result"
    }
   ],
   "source": [
    "temp_one_hr = round(df.resample('60min',on='date').temp.mean(),2)\n",
    "hum_one_hr = round(df.resample('60min',on='date').hum.mean(),2)\n",
    "co_one_hr = round(df.resample('60min',on='date').co.mean(),2)\n",
    "no2_one_hr = round(df.resample('60min',on='date').no2.mean(),2)\n",
    "pm2_5_one_hr = round(df.resample('60min',on='date').pm2_5.mean(),2)\n",
    "pm10_one_hr = round(df.resample('60min',on='date').pm10.mean(),2)\n",
    "\n",
    "one_hr_sample = pd.DataFrame({\n",
    "    \"TEMP\":temp_one_hr,\n",
    "    \"HUM\":hum_one_hr,\n",
    "    \"CO\":co_one_hr,\n",
    "    \"NO2\":no2_one_hr,\n",
    "    \"PM2.5\":pm2_5_one_hr,\n",
    "    \"PM10\":pm10_one_hr\n",
    "})\n",
    "\n",
    "one_hr_sample"
   ]
  },
  {
   "cell_type": "code",
   "execution_count": 5,
   "metadata": {},
   "outputs": [],
   "source": [
    "pm = one_hr_sample[['PM2.5']].copy()"
   ]
  },
  {
   "cell_type": "code",
   "execution_count": 6,
   "metadata": {},
   "outputs": [
    {
     "data": {
      "text/html": [
       "<div>\n",
       "<style scoped>\n",
       "    .dataframe tbody tr th:only-of-type {\n",
       "        vertical-align: middle;\n",
       "    }\n",
       "\n",
       "    .dataframe tbody tr th {\n",
       "        vertical-align: top;\n",
       "    }\n",
       "\n",
       "    .dataframe thead th {\n",
       "        text-align: right;\n",
       "    }\n",
       "</style>\n",
       "<table border=\"1\" class=\"dataframe\">\n",
       "  <thead>\n",
       "    <tr style=\"text-align: right;\">\n",
       "      <th></th>\n",
       "      <th>PM2.5</th>\n",
       "    </tr>\n",
       "    <tr>\n",
       "      <th>date</th>\n",
       "      <th></th>\n",
       "    </tr>\n",
       "  </thead>\n",
       "  <tbody>\n",
       "    <tr>\n",
       "      <th>2019-09-13 16:00:00</th>\n",
       "      <td>32.73</td>\n",
       "    </tr>\n",
       "    <tr>\n",
       "      <th>2019-09-13 17:00:00</th>\n",
       "      <td>38.32</td>\n",
       "    </tr>\n",
       "    <tr>\n",
       "      <th>2019-09-13 18:00:00</th>\n",
       "      <td>27.65</td>\n",
       "    </tr>\n",
       "    <tr>\n",
       "      <th>2019-09-13 19:00:00</th>\n",
       "      <td>22.28</td>\n",
       "    </tr>\n",
       "    <tr>\n",
       "      <th>2019-09-13 20:00:00</th>\n",
       "      <td>22.89</td>\n",
       "    </tr>\n",
       "    <tr>\n",
       "      <th>...</th>\n",
       "      <td>...</td>\n",
       "    </tr>\n",
       "    <tr>\n",
       "      <th>2020-01-11 13:00:00</th>\n",
       "      <td>78.92</td>\n",
       "    </tr>\n",
       "    <tr>\n",
       "      <th>2020-01-11 14:00:00</th>\n",
       "      <td>65.24</td>\n",
       "    </tr>\n",
       "    <tr>\n",
       "      <th>2020-01-11 15:00:00</th>\n",
       "      <td>54.23</td>\n",
       "    </tr>\n",
       "    <tr>\n",
       "      <th>2020-01-11 16:00:00</th>\n",
       "      <td>52.97</td>\n",
       "    </tr>\n",
       "    <tr>\n",
       "      <th>2020-01-11 17:00:00</th>\n",
       "      <td>77.85</td>\n",
       "    </tr>\n",
       "  </tbody>\n",
       "</table>\n",
       "<p>2882 rows × 1 columns</p>\n",
       "</div>"
      ],
      "text/plain": [
       "                     PM2.5\n",
       "date                      \n",
       "2019-09-13 16:00:00  32.73\n",
       "2019-09-13 17:00:00  38.32\n",
       "2019-09-13 18:00:00  27.65\n",
       "2019-09-13 19:00:00  22.28\n",
       "2019-09-13 20:00:00  22.89\n",
       "...                    ...\n",
       "2020-01-11 13:00:00  78.92\n",
       "2020-01-11 14:00:00  65.24\n",
       "2020-01-11 15:00:00  54.23\n",
       "2020-01-11 16:00:00  52.97\n",
       "2020-01-11 17:00:00  77.85\n",
       "\n",
       "[2882 rows x 1 columns]"
      ]
     },
     "execution_count": 6,
     "metadata": {},
     "output_type": "execute_result"
    }
   ],
   "source": [
    "pm"
   ]
  },
  {
   "cell_type": "code",
   "execution_count": 7,
   "metadata": {},
   "outputs": [],
   "source": [
    "df = pm.copy()"
   ]
  },
  {
   "cell_type": "code",
   "execution_count": 8,
   "metadata": {},
   "outputs": [
    {
     "data": {
      "text/plain": [
       "PM2.5    1157\n",
       "dtype: int64"
      ]
     },
     "execution_count": 8,
     "metadata": {},
     "output_type": "execute_result"
    }
   ],
   "source": [
    "df.isna().sum()"
   ]
  },
  {
   "cell_type": "code",
   "execution_count": 9,
   "metadata": {},
   "outputs": [],
   "source": [
    "df = df.interpolate(method ='linear')"
   ]
  },
  {
   "cell_type": "code",
   "execution_count": 10,
   "metadata": {},
   "outputs": [
    {
     "data": {
      "text/plain": [
       "<AxesSubplot:xlabel='date'>"
      ]
     },
     "execution_count": 10,
     "metadata": {},
     "output_type": "execute_result"
    },
    {
     "data": {
      "image/png": "[encoded data removed]",
      "text/plain": [
       "<Figure size 432x288 with 1 Axes>"
      ]
     },
     "metadata": {
      "needs_background": "light"
     },
     "output_type": "display_data"
    }
   ],
   "source": [
    "df.plot()"
   ]
  },
  {
   "cell_type": "code",
   "execution_count": 11,
   "metadata": {},
   "outputs": [
    {
     "data": {
      "text/plain": [
       "2882"
      ]
     },
     "execution_count": 11,
     "metadata": {},
     "output_type": "execute_result"
    }
   ],
   "source": [
    "len(df)"
   ]
  },
  {
   "cell_type": "code",
   "execution_count": 12,
   "metadata": {},
   "outputs": [],
   "source": [
    "train = df.iloc[:2858]\n",
    "test = df.iloc[2858:]\n",
    "\n",
    "scaler = MinMaxScaler()"
   ]
  },
  {
   "cell_type": "code",
   "execution_count": 13,
   "metadata": {},
   "outputs": [],
   "source": [
    "scaler.fit(train)\n",
    "scaled_train = scaler.transform(train)\n",
    "scaled_test = scaler.transform(test)"
   ]
  },
  {
   "cell_type": "code",
   "execution_count": 14,
   "metadata": {},
   "outputs": [
    {
     "data": {
      "image/png": "[encoded data removed]",
      "text/plain": [
       "<Figure size 720x360 with 1 Axes>"
      ]
     },
     "metadata": {
      "needs_background": "light"
     },
     "output_type": "display_data"
    }
   ],
   "source": [
    "plt.figure(figsize=(10, 5))\n",
    "\n",
    "plt.plot(train, label = 'Train')\n",
    "plt.plot(test, label = 'Test')\n",
    "\n",
    "plt.xlabel('Months', fontsize=18)\n",
    "plt.ylabel('Passengers', fontsize=18)\n",
    "\n",
    "plt.xticks(fontsize=14)\n",
    "plt.yticks(fontsize=14)\n",
    "\n",
    "plt.legend(loc='lower left', bbox_to_anchor= (0.0, 1.01), ncol=3, \n",
    "           borderaxespad=0, frameon=False, prop={\"size\":15})\n",
    "\n",
    "plt.show()\n"
   ]
  },
  {
   "cell_type": "code",
   "execution_count": 15,
   "metadata": {},
   "outputs": [],
   "source": [
    "n_input = 24\n",
    "n_features = 1\n",
    "\n",
    "def generate_data(data, n_input):\n",
    "    X, y = [], []\n",
    "    for i in range(0,len(data)-n_input):\n",
    "            X.append(data[i:i+n_input])\n",
    "            y.append(data[i+n_input])\n",
    "    return np.array(X), np.array(y)\n",
    "\n",
    "X, y = generate_data(scaled_train, n_input)"
   ]
  },
  {
   "cell_type": "markdown",
   "metadata": {},
   "source": [
    "# Original LSTM"
   ]
  },
  {
   "cell_type": "code",
   "execution_count": 16,
   "metadata": {},
   "outputs": [
    {
     "name": "stdout",
     "output_type": "stream",
     "text": [
      "Model: \"sequential\"\n",
      "_________________________________________________________________\n",
      "Layer (type)                 Output Shape              Param #   \n",
      "=================================================================\n",
      "lstm (LSTM)                  (None, 200)               161600    \n",
      "_________________________________________________________________\n",
      "dense (Dense)                (None, 1)                 201       \n",
      "=================================================================\n",
      "Total params: 161,801\n",
      "Trainable params: 161,801\n",
      "Non-trainable params: 0\n",
      "_________________________________________________________________\n"
     ]
    }
   ],
   "source": [
    "model = Sequential()\n",
    "model.add(LSTM(200, input_shape=(n_input, n_features)))\n",
    "model.add(Dense(1))\n",
    "model.compile(loss='mse')\n",
    "\n",
    "model.summary()"
   ]
  },
  {
   "cell_type": "code",
   "execution_count": 17,
   "metadata": {},
   "outputs": [
    {
     "data": {
      "text/plain": [
       "<keras.callbacks.History at 0x1c717fe2550>"
      ]
     },
     "execution_count": 17,
     "metadata": {},
     "output_type": "execute_result"
    }
   ],
   "source": [
    "model.fit(X, y, epochs=50, verbose=0)"
   ]
  },
  {
   "cell_type": "code",
   "execution_count": 18,
   "metadata": {},
   "outputs": [
    {
     "data": {
      "text/plain": [
       "[array([0.1460203], dtype=float32),\n",
       " array([0.15831044], dtype=float32),\n",
       " array([0.16432357], dtype=float32),\n",
       " array([0.16890672], dtype=float32),\n",
       " array([0.17236489], dtype=float32),\n",
       " array([0.17317571], dtype=float32),\n",
       " array([0.17035785], dtype=float32),\n",
       " array([0.16393453], dtype=float32),\n",
       " array([0.15517354], dtype=float32),\n",
       " array([0.14737692], dtype=float32),\n",
       " array([0.14329073], dtype=float32),\n",
       " array([0.14391702], dtype=float32),\n",
       " array([0.14864187], dtype=float32),\n",
       " array([0.1552172], dtype=float32),\n",
       " array([0.16079724], dtype=float32),\n",
       " array([0.16307002], dtype=float32),\n",
       " array([0.1616939], dtype=float32),\n",
       " array([0.15740618], dtype=float32),\n",
       " array([0.1515908], dtype=float32),\n",
       " array([0.14558516], dtype=float32),\n",
       " array([0.1404208], dtype=float32),\n",
       " array([0.1366837], dtype=float32),\n",
       " array([0.13467734], dtype=float32),\n",
       " array([0.13454518], dtype=float32)]"
      ]
     },
     "execution_count": 18,
     "metadata": {},
     "output_type": "execute_result"
    }
   ],
   "source": [
    "test_predictions = []\n",
    "\n",
    "first_eval_batch = scaled_train[-n_input:]\n",
    "current_batch = first_eval_batch.reshape((1, n_input, n_features))\n",
    "\n",
    "for i in range(len(test)):\n",
    "    current_pred = model.predict(current_batch)[0]\n",
    "    \n",
    "    test_predictions.append(current_pred)\n",
    "    \n",
    "    current_batch = np.append(current_batch[:,1:,:],[[current_pred]], axis=1)\n",
    "    \n",
    "test_predictions"
   ]
  },
  {
   "cell_type": "code",
   "execution_count": 19,
   "metadata": {},
   "outputs": [],
   "source": [
    "true_predictions = scaler.inverse_transform(test_predictions)\n",
    "\n",
    "test['original_LSTM'] = true_predictions"
   ]
  },
  {
   "cell_type": "code",
   "execution_count": 20,
   "metadata": {},
   "outputs": [
    {
     "data": {
      "text/plain": [
       "<AxesSubplot:xlabel='date'>"
      ]
     },
     "execution_count": 20,
     "metadata": {},
     "output_type": "execute_result"
    },
    {
     "data": {
      "image/png": "[encoded data removed]",
      "text/plain": [
       "<Figure size 432x288 with 1 Axes>"
      ]
     },
     "metadata": {
      "needs_background": "light"
     },
     "output_type": "display_data"
    }
   ],
   "source": [
    "test.plot()"
   ]
  },
  {
   "cell_type": "code",
   "execution_count": 21,
   "metadata": {},
   "outputs": [
    {
     "name": "stdout",
     "output_type": "stream",
     "text": [
      "42.35260793586555\n"
     ]
    }
   ],
   "source": [
    "rmse = sqrt(mean_squared_error(test['PM2.5'], test['original_LSTM']))\n",
    "print(rmse)"
   ]
  },
  {
   "cell_type": "code",
   "execution_count": 22,
   "metadata": {},
   "outputs": [
    {
     "data": {
      "text/html": [
       "<div>\n",
       "<style scoped>\n",
       "    .dataframe tbody tr th:only-of-type {\n",
       "        vertical-align: middle;\n",
       "    }\n",
       "\n",
       "    .dataframe tbody tr th {\n",
       "        vertical-align: top;\n",
       "    }\n",
       "\n",
       "    .dataframe thead th {\n",
       "        text-align: right;\n",
       "    }\n",
       "</style>\n",
       "<table border=\"1\" class=\"dataframe\">\n",
       "  <thead>\n",
       "    <tr style=\"text-align: right;\">\n",
       "      <th></th>\n",
       "      <th>PM2.5</th>\n",
       "      <th>original_LSTM</th>\n",
       "    </tr>\n",
       "    <tr>\n",
       "      <th>date</th>\n",
       "      <th></th>\n",
       "      <th></th>\n",
       "    </tr>\n",
       "  </thead>\n",
       "  <tbody>\n",
       "    <tr>\n",
       "      <th>2020-01-10 18:00:00</th>\n",
       "      <td>123.76</td>\n",
       "      <td>91.100195</td>\n",
       "    </tr>\n",
       "    <tr>\n",
       "      <th>2020-01-10 19:00:00</th>\n",
       "      <td>195.89</td>\n",
       "      <td>98.522094</td>\n",
       "    </tr>\n",
       "    <tr>\n",
       "      <th>2020-01-10 20:00:00</th>\n",
       "      <td>214.24</td>\n",
       "      <td>102.153360</td>\n",
       "    </tr>\n",
       "    <tr>\n",
       "      <th>2020-01-10 21:00:00</th>\n",
       "      <td>141.64</td>\n",
       "      <td>104.921078</td>\n",
       "    </tr>\n",
       "    <tr>\n",
       "      <th>2020-01-10 22:00:00</th>\n",
       "      <td>91.89</td>\n",
       "      <td>107.009434</td>\n",
       "    </tr>\n",
       "    <tr>\n",
       "      <th>2020-01-10 23:00:00</th>\n",
       "      <td>87.37</td>\n",
       "      <td>107.499078</td>\n",
       "    </tr>\n",
       "    <tr>\n",
       "      <th>2020-01-11 00:00:00</th>\n",
       "      <td>83.57</td>\n",
       "      <td>105.797404</td>\n",
       "    </tr>\n",
       "    <tr>\n",
       "      <th>2020-01-11 01:00:00</th>\n",
       "      <td>84.33</td>\n",
       "      <td>101.918423</td>\n",
       "    </tr>\n",
       "    <tr>\n",
       "      <th>2020-01-11 02:00:00</th>\n",
       "      <td>90.69</td>\n",
       "      <td>96.627749</td>\n",
       "    </tr>\n",
       "    <tr>\n",
       "      <th>2020-01-11 03:00:00</th>\n",
       "      <td>108.71</td>\n",
       "      <td>91.919451</td>\n",
       "    </tr>\n",
       "    <tr>\n",
       "      <th>2020-01-11 04:00:00</th>\n",
       "      <td>125.15</td>\n",
       "      <td>89.451838</td>\n",
       "    </tr>\n",
       "    <tr>\n",
       "      <th>2020-01-11 05:00:00</th>\n",
       "      <td>144.42</td>\n",
       "      <td>89.830052</td>\n",
       "    </tr>\n",
       "    <tr>\n",
       "      <th>2020-01-11 06:00:00</th>\n",
       "      <td>140.14</td>\n",
       "      <td>92.683339</td>\n",
       "    </tr>\n",
       "    <tr>\n",
       "      <th>2020-01-11 07:00:00</th>\n",
       "      <td>163.75</td>\n",
       "      <td>96.654115</td>\n",
       "    </tr>\n",
       "    <tr>\n",
       "      <th>2020-01-11 08:00:00</th>\n",
       "      <td>148.61</td>\n",
       "      <td>100.023844</td>\n",
       "    </tr>\n",
       "    <tr>\n",
       "      <th>2020-01-11 09:00:00</th>\n",
       "      <td>96.82</td>\n",
       "      <td>101.396356</td>\n",
       "    </tr>\n",
       "    <tr>\n",
       "      <th>2020-01-11 10:00:00</th>\n",
       "      <td>88.51</td>\n",
       "      <td>100.565330</td>\n",
       "    </tr>\n",
       "    <tr>\n",
       "      <th>2020-01-11 11:00:00</th>\n",
       "      <td>82.18</td>\n",
       "      <td>97.976019</td>\n",
       "    </tr>\n",
       "    <tr>\n",
       "      <th>2020-01-11 12:00:00</th>\n",
       "      <td>74.20</td>\n",
       "      <td>94.464165</td>\n",
       "    </tr>\n",
       "    <tr>\n",
       "      <th>2020-01-11 13:00:00</th>\n",
       "      <td>78.92</td>\n",
       "      <td>90.837425</td>\n",
       "    </tr>\n",
       "    <tr>\n",
       "      <th>2020-01-11 14:00:00</th>\n",
       "      <td>65.24</td>\n",
       "      <td>87.718714</td>\n",
       "    </tr>\n",
       "    <tr>\n",
       "      <th>2020-01-11 15:00:00</th>\n",
       "      <td>54.23</td>\n",
       "      <td>85.461921</td>\n",
       "    </tr>\n",
       "    <tr>\n",
       "      <th>2020-01-11 16:00:00</th>\n",
       "      <td>52.97</td>\n",
       "      <td>84.250296</td>\n",
       "    </tr>\n",
       "    <tr>\n",
       "      <th>2020-01-11 17:00:00</th>\n",
       "      <td>77.85</td>\n",
       "      <td>84.170487</td>\n",
       "    </tr>\n",
       "  </tbody>\n",
       "</table>\n",
       "</div>"
      ],
      "text/plain": [
       "                      PM2.5  original_LSTM\n",
       "date                                      \n",
       "2020-01-10 18:00:00  123.76      91.100195\n",
       "2020-01-10 19:00:00  195.89      98.522094\n",
       "2020-01-10 20:00:00  214.24     102.153360\n",
       "2020-01-10 21:00:00  141.64     104.921078\n",
       "2020-01-10 22:00:00   91.89     107.009434\n",
       "2020-01-10 23:00:00   87.37     107.499078\n",
       "2020-01-11 00:00:00   83.57     105.797404\n",
       "2020-01-11 01:00:00   84.33     101.918423\n",
       "2020-01-11 02:00:00   90.69      96.627749\n",
       "2020-01-11 03:00:00  108.71      91.919451\n",
       "2020-01-11 04:00:00  125.15      89.451838\n",
       "2020-01-11 05:00:00  144.42      89.830052\n",
       "2020-01-11 06:00:00  140.14      92.683339\n",
       "2020-01-11 07:00:00  163.75      96.654115\n",
       "2020-01-11 08:00:00  148.61     100.023844\n",
       "2020-01-11 09:00:00   96.82     101.396356\n",
       "2020-01-11 10:00:00   88.51     100.565330\n",
       "2020-01-11 11:00:00   82.18      97.976019\n",
       "2020-01-11 12:00:00   74.20      94.464165\n",
       "2020-01-11 13:00:00   78.92      90.837425\n",
       "2020-01-11 14:00:00   65.24      87.718714\n",
       "2020-01-11 15:00:00   54.23      85.461921\n",
       "2020-01-11 16:00:00   52.97      84.250296\n",
       "2020-01-11 17:00:00   77.85      84.170487"
      ]
     },
     "execution_count": 22,
     "metadata": {},
     "output_type": "execute_result"
    }
   ],
   "source": [
    "test"
   ]
  },
  {
   "cell_type": "markdown",
   "metadata": {},
   "source": [
    "# SELF_MADE_LSTM"
   ]
  },
  {
   "cell_type": "code",
   "execution_count": 23,
   "metadata": {},
   "outputs": [],
   "source": [
    "self_model = LSTM_SS(1, 1, 200, n_input, 0.01)"
   ]
  },
  {
   "cell_type": "code",
   "execution_count": 24,
   "metadata": {},
   "outputs": [],
   "source": [
    "self_model.fit(50, X, y, verbose=False)"
   ]
  },
  {
   "cell_type": "code",
   "execution_count": 25,
   "metadata": {
    "scrolled": true
   },
   "outputs": [
    {
     "data": {
      "text/plain": [
       "[array([0.16868773]),\n",
       " array([0.16826841]),\n",
       " array([0.17212917]),\n",
       " array([0.1762491]),\n",
       " array([0.19018952]),\n",
       " array([0.17938771]),\n",
       " array([0.1761429]),\n",
       " array([0.18628472]),\n",
       " array([0.19206958]),\n",
       " array([0.19314262]),\n",
       " array([0.19298491]),\n",
       " array([0.19487735]),\n",
       " array([0.17340346]),\n",
       " array([0.16752673]),\n",
       " array([0.1834173]),\n",
       " array([0.18738547]),\n",
       " array([0.19967854]),\n",
       " array([0.1694262]),\n",
       " array([0.15726054]),\n",
       " array([0.22744389]),\n",
       " array([0.22769394]),\n",
       " array([0.18384055]),\n",
       " array([0.18428946]),\n",
       " array([0.18860127])]"
      ]
     },
     "execution_count": 25,
     "metadata": {},
     "output_type": "execute_result"
    }
   ],
   "source": [
    "test_predictions = []\n",
    "\n",
    "first_eval_batch = scaled_train[-n_input:]\n",
    "current_batch = first_eval_batch.reshape((1, n_input, n_features))\n",
    "\n",
    "for i in range(len(test)):\n",
    "    current_pred = self_model.predict(current_batch)[0]\n",
    "    \n",
    "    test_predictions.append(current_pred)\n",
    "    \n",
    "    current_batch = np.append(current_batch[:,1:,:],[[current_pred]], axis=1)\n",
    "    \n",
    "test_predictions"
   ]
  },
  {
   "cell_type": "code",
   "execution_count": 26,
   "metadata": {},
   "outputs": [],
   "source": [
    "true_predictions = scaler.inverse_transform(test_predictions)\n",
    "\n",
    "test['SELF_MADE_LSTM'] = true_predictions"
   ]
  },
  {
   "cell_type": "code",
   "execution_count": 27,
   "metadata": {},
   "outputs": [
    {
     "data": {
      "text/plain": [
       "<AxesSubplot:xlabel='date'>"
      ]
     },
     "execution_count": 27,
     "metadata": {},
     "output_type": "execute_result"
    },
    {
     "data": {
      "image/png": "[encoded data removed]",
      "text/plain": [
       "<Figure size 432x288 with 1 Axes>"
      ]
     },
     "metadata": {
      "needs_background": "light"
     },
     "output_type": "display_data"
    }
   ],
   "source": [
    "test.plot()"
   ]
  },
  {
   "cell_type": "code",
   "execution_count": 28,
   "metadata": {},
   "outputs": [
    {
     "name": "stdout",
     "output_type": "stream",
     "text": [
      "46.740693385943814\n"
     ]
    }
   ],
   "source": [
    "rmse = sqrt(mean_squared_error(test['PM2.5'], test['SELF_MADE_LSTM']))\n",
    "print(rmse)"
   ]
  },
  {
   "cell_type": "code",
   "execution_count": 29,
   "metadata": {},
   "outputs": [
    {
     "data": {
      "text/html": [
       "<div>\n",
       "<style scoped>\n",
       "    .dataframe tbody tr th:only-of-type {\n",
       "        vertical-align: middle;\n",
       "    }\n",
       "\n",
       "    .dataframe tbody tr th {\n",
       "        vertical-align: top;\n",
       "    }\n",
       "\n",
       "    .dataframe thead th {\n",
       "        text-align: right;\n",
       "    }\n",
       "</style>\n",
       "<table border=\"1\" class=\"dataframe\">\n",
       "  <thead>\n",
       "    <tr style=\"text-align: right;\">\n",
       "      <th></th>\n",
       "      <th>PM2.5</th>\n",
       "      <th>original_LSTM</th>\n",
       "      <th>SELF_MADE_LSTM</th>\n",
       "    </tr>\n",
       "    <tr>\n",
       "      <th>date</th>\n",
       "      <th></th>\n",
       "      <th></th>\n",
       "      <th></th>\n",
       "    </tr>\n",
       "  </thead>\n",
       "  <tbody>\n",
       "    <tr>\n",
       "      <th>2020-01-10 18:00:00</th>\n",
       "      <td>123.76</td>\n",
       "      <td>91.100195</td>\n",
       "      <td>104.788832</td>\n",
       "    </tr>\n",
       "    <tr>\n",
       "      <th>2020-01-10 19:00:00</th>\n",
       "      <td>195.89</td>\n",
       "      <td>98.522094</td>\n",
       "      <td>104.535609</td>\n",
       "    </tr>\n",
       "    <tr>\n",
       "      <th>2020-01-10 20:00:00</th>\n",
       "      <td>214.24</td>\n",
       "      <td>102.153360</td>\n",
       "      <td>106.867082</td>\n",
       "    </tr>\n",
       "    <tr>\n",
       "      <th>2020-01-10 21:00:00</th>\n",
       "      <td>141.64</td>\n",
       "      <td>104.921078</td>\n",
       "      <td>109.355067</td>\n",
       "    </tr>\n",
       "    <tr>\n",
       "      <th>2020-01-10 22:00:00</th>\n",
       "      <td>91.89</td>\n",
       "      <td>107.009434</td>\n",
       "      <td>117.773547</td>\n",
       "    </tr>\n",
       "    <tr>\n",
       "      <th>2020-01-10 23:00:00</th>\n",
       "      <td>87.37</td>\n",
       "      <td>107.499078</td>\n",
       "      <td>111.250445</td>\n",
       "    </tr>\n",
       "    <tr>\n",
       "      <th>2020-01-11 00:00:00</th>\n",
       "      <td>83.57</td>\n",
       "      <td>105.797404</td>\n",
       "      <td>109.290937</td>\n",
       "    </tr>\n",
       "    <tr>\n",
       "      <th>2020-01-11 01:00:00</th>\n",
       "      <td>84.33</td>\n",
       "      <td>101.918423</td>\n",
       "      <td>115.415478</td>\n",
       "    </tr>\n",
       "    <tr>\n",
       "      <th>2020-01-11 02:00:00</th>\n",
       "      <td>90.69</td>\n",
       "      <td>96.627749</td>\n",
       "      <td>118.908899</td>\n",
       "    </tr>\n",
       "    <tr>\n",
       "      <th>2020-01-11 03:00:00</th>\n",
       "      <td>108.71</td>\n",
       "      <td>91.919451</td>\n",
       "      <td>119.556895</td>\n",
       "    </tr>\n",
       "    <tr>\n",
       "      <th>2020-01-11 04:00:00</th>\n",
       "      <td>125.15</td>\n",
       "      <td>89.451838</td>\n",
       "      <td>119.461660</td>\n",
       "    </tr>\n",
       "    <tr>\n",
       "      <th>2020-01-11 05:00:00</th>\n",
       "      <td>144.42</td>\n",
       "      <td>89.830052</td>\n",
       "      <td>120.604484</td>\n",
       "    </tr>\n",
       "    <tr>\n",
       "      <th>2020-01-11 06:00:00</th>\n",
       "      <td>140.14</td>\n",
       "      <td>92.683339</td>\n",
       "      <td>107.636615</td>\n",
       "    </tr>\n",
       "    <tr>\n",
       "      <th>2020-01-11 07:00:00</th>\n",
       "      <td>163.75</td>\n",
       "      <td>96.654115</td>\n",
       "      <td>104.087720</td>\n",
       "    </tr>\n",
       "    <tr>\n",
       "      <th>2020-01-11 08:00:00</th>\n",
       "      <td>148.61</td>\n",
       "      <td>100.023844</td>\n",
       "      <td>113.683874</td>\n",
       "    </tr>\n",
       "    <tr>\n",
       "      <th>2020-01-11 09:00:00</th>\n",
       "      <td>96.82</td>\n",
       "      <td>101.396356</td>\n",
       "      <td>116.080211</td>\n",
       "    </tr>\n",
       "    <tr>\n",
       "      <th>2020-01-11 10:00:00</th>\n",
       "      <td>88.51</td>\n",
       "      <td>100.565330</td>\n",
       "      <td>123.503875</td>\n",
       "    </tr>\n",
       "    <tr>\n",
       "      <th>2020-01-11 11:00:00</th>\n",
       "      <td>82.18</td>\n",
       "      <td>97.976019</td>\n",
       "      <td>105.234788</td>\n",
       "    </tr>\n",
       "    <tr>\n",
       "      <th>2020-01-11 12:00:00</th>\n",
       "      <td>74.20</td>\n",
       "      <td>94.464165</td>\n",
       "      <td>97.888065</td>\n",
       "    </tr>\n",
       "    <tr>\n",
       "      <th>2020-01-11 13:00:00</th>\n",
       "      <td>78.92</td>\n",
       "      <td>90.837425</td>\n",
       "      <td>140.271090</td>\n",
       "    </tr>\n",
       "    <tr>\n",
       "      <th>2020-01-11 14:00:00</th>\n",
       "      <td>65.24</td>\n",
       "      <td>87.718714</td>\n",
       "      <td>140.422091</td>\n",
       "    </tr>\n",
       "    <tr>\n",
       "      <th>2020-01-11 15:00:00</th>\n",
       "      <td>54.23</td>\n",
       "      <td>85.461921</td>\n",
       "      <td>113.939471</td>\n",
       "    </tr>\n",
       "    <tr>\n",
       "      <th>2020-01-11 16:00:00</th>\n",
       "      <td>52.97</td>\n",
       "      <td>84.250296</td>\n",
       "      <td>114.210563</td>\n",
       "    </tr>\n",
       "    <tr>\n",
       "      <th>2020-01-11 17:00:00</th>\n",
       "      <td>77.85</td>\n",
       "      <td>84.170487</td>\n",
       "      <td>116.814420</td>\n",
       "    </tr>\n",
       "  </tbody>\n",
       "</table>\n",
       "</div>"
      ],
      "text/plain": [
       "                      PM2.5  original_LSTM  SELF_MADE_LSTM\n",
       "date                                                      \n",
       "2020-01-10 18:00:00  123.76      91.100195      104.788832\n",
       "2020-01-10 19:00:00  195.89      98.522094      104.535609\n",
       "2020-01-10 20:00:00  214.24     102.153360      106.867082\n",
       "2020-01-10 21:00:00  141.64     104.921078      109.355067\n",
       "2020-01-10 22:00:00   91.89     107.009434      117.773547\n",
       "2020-01-10 23:00:00   87.37     107.499078      111.250445\n",
       "2020-01-11 00:00:00   83.57     105.797404      109.290937\n",
       "2020-01-11 01:00:00   84.33     101.918423      115.415478\n",
       "2020-01-11 02:00:00   90.69      96.627749      118.908899\n",
       "2020-01-11 03:00:00  108.71      91.919451      119.556895\n",
       "2020-01-11 04:00:00  125.15      89.451838      119.461660\n",
       "2020-01-11 05:00:00  144.42      89.830052      120.604484\n",
       "2020-01-11 06:00:00  140.14      92.683339      107.636615\n",
       "2020-01-11 07:00:00  163.75      96.654115      104.087720\n",
       "2020-01-11 08:00:00  148.61     100.023844      113.683874\n",
       "2020-01-11 09:00:00   96.82     101.396356      116.080211\n",
       "2020-01-11 10:00:00   88.51     100.565330      123.503875\n",
       "2020-01-11 11:00:00   82.18      97.976019      105.234788\n",
       "2020-01-11 12:00:00   74.20      94.464165       97.888065\n",
       "2020-01-11 13:00:00   78.92      90.837425      140.271090\n",
       "2020-01-11 14:00:00   65.24      87.718714      140.422091\n",
       "2020-01-11 15:00:00   54.23      85.461921      113.939471\n",
       "2020-01-11 16:00:00   52.97      84.250296      114.210563\n",
       "2020-01-11 17:00:00   77.85      84.170487      116.814420"
      ]
     },
     "execution_count": 29,
     "metadata": {},
     "output_type": "execute_result"
    }
   ],
   "source": [
    "test"
   ]
  },
  {
   "cell_type": "code",
   "execution_count": null,
   "metadata": {},
   "outputs": [],
   "source": []
  },
  {
   "cell_type": "code",
   "execution_count": null,
   "metadata": {},
   "outputs": [],
   "source": []
  }
 ],
 "metadata": {
  "kernelspec": {
   "display_name": "Python 3",
   "language": "python",
   "name": "python3"
  },
  "language_info": {
   "codemirror_mode": {
    "name": "ipython",
    "version": 3
   },
   "file_extension": ".py",
   "mimetype": "text/x-python",
   "name": "python",
   "nbconvert_exporter": "python",
   "pygments_lexer": "ipython3",
   "version": "3.8.5"
  }
 },
 "nbformat": 4,
 "nbformat_minor": 4
}
